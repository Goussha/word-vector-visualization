{
  "nbformat": 4,
  "nbformat_minor": 0,
  "metadata": {
    "kernelspec": {
      "display_name": "Python 3",
      "language": "python",
      "name": "python3"
    },
    "language_info": {
      "codemirror_mode": {
        "name": "ipython",
        "version": 3
      },
      "file_extension": ".py",
      "mimetype": "text/x-python",
      "name": "python",
      "nbconvert_exporter": "python",
      "pygments_lexer": "ipython3",
      "version": "3.7.3"
    },
    "colab": {
      "name": "Word_Vector_visualization.ipynb",
      "provenance": [],
      "include_colab_link": true
    }
  },
  "cells": [
    {
      "cell_type": "markdown",
      "metadata": {
        "id": "view-in-github",
        "colab_type": "text"
      },
      "source": [
        "<a href=\"https://colab.research.google.com/github/Goussha/word-vector-visualization/blob/master/Word_Vector_visualization.ipynb\" target=\"_parent\"><img src=\"https://colab.research.google.com/assets/colab-badge.svg\" alt=\"Open In Colab\"/></a>"
      ]
    },
    {
      "cell_type": "markdown",
      "metadata": {
        "id": "hNJQXT-I0SQD",
        "colab_type": "text"
      },
      "source": [
        "## Word vector visualization"
      ]
    },
    {
      "cell_type": "markdown",
      "metadata": {
        "id": "fmgtDXdM5azq",
        "colab_type": "text"
      },
      "source": [
        "This word vector visualization tool was built to illustrate some of the properties they have.\n",
        "The vectors themselves were encoded using GloVe model by the good folks at Stanford, ([link to GloVe](https://nlp.stanford.edu/projects/glove/)) and this script was heavily inspired by this page [here](https://web.stanford.edu/class/cs224n/materials/Gensim%20word%20vector%20visualization.html), taken from the materials of one of the courses in Stanford.\n",
        "\n",
        "In short, they trained GloVe model on 400k word corpus obtained from Wikipedia (at 2014) and Gigaword.\n",
        "\n",
        "I have chosen to use their smallest vectors with the least dimensions (50d), since the difference in performance was insignificant as compared to the difference in file size.\n",
        "however, you are more than welcome to download the other files from the Glove site ([zip files](https://nlp.stanford.edu/data/glove.6B.zip)) and play around with it.\n",
        "\n",
        "I changed the functions and made them slower and less efficient, but in doing so, you can see in inside of them and have a better understanding of how they work. I have also changed the plotting tools to pyplot and made some enhancements."
      ]
    },
    {
      "cell_type": "markdown",
      "metadata": {
        "id": "H3Q6cT6e_muR",
        "colab_type": "text"
      },
      "source": [
        "## Imports"
      ]
    },
    {
      "cell_type": "code",
      "metadata": {
        "id": "gDdwQ3uv0SQK",
        "colab_type": "code",
        "colab": {}
      },
      "source": [
        "# Get the interactive Tools for Matplotlib\n",
        "import matplotlib.pyplot as plt\n",
        "%matplotlib notebook\n",
        "%matplotlib inline\n",
        "plt.style.use('ggplot')\n",
        "\n",
        "import plotly.graph_objects as go\n",
        "import plotly.express as px\n",
        "\n",
        "# Get tools to download files and load them \n",
        "import pickle\n",
        "import urllib.request\n",
        "from os.path import exists as check_path\n",
        "from os import makedirs\n",
        "\n",
        "# Get tools to performe analysis\n",
        "import numpy as np\n",
        "from heapq import heappushpop\n",
        "from sklearn.decomposition import PCA"
      ],
      "execution_count": 0,
      "outputs": []
    },
    {
      "cell_type": "markdown",
      "metadata": {
        "id": "xa8hZgfQAauJ",
        "colab_type": "text"
      },
      "source": [
        "# Step 1: download files and load the list of word and their vector representations \n",
        " \n",
        "\n",
        "1.   Run the next blocks:\n",
        "\n",
        "\n",
        "> 1.   download_files_from_github\n",
        "> 2.   load_word2vecfiles\n",
        "\n",
        "2.   List item\n",
        "\n",
        "\n",
        "(should take about 1 min to load)"
      ]
    },
    {
      "cell_type": "code",
      "metadata": {
        "id": "qswqF_5O0SQh",
        "colab_type": "code",
        "colab": {}
      },
      "source": [
        "def download_files_from_github(file_target_dir):\n",
        "    main_url = 'https://raw.githubusercontent.com/Goussha/word-vector-visualization/master/'\n",
        "    if not check_path(file_target_dir):\n",
        "        makedirs(file_target_dir)\n",
        "    \n",
        "    urls = [main_url+'file{}.p'.format(x) for x in range(1,9)]\n",
        "    file_names = [file_target_dir+'file{}.p'.format(x) for x in range(1,9)]\n",
        "    for file_name, url in zip(file_names, urls):\n",
        "        if not check_path(file_name):\n",
        "            print (\"Downloading file: \",file_name)\n",
        "            filename, headers = urllib.request.urlretrieve(url, filename=file_name)\n",
        "        else:\n",
        "            print('Allready exists: {}'.format(file_name))"
      ],
      "execution_count": 0,
      "outputs": []
    },
    {
      "cell_type": "code",
      "metadata": {
        "id": "0aEmH8Kv0SQp",
        "colab_type": "code",
        "colab": {}
      },
      "source": [
        "def load_word2vecfiles(file_target_dir):\n",
        "    word_dict_loded = {}\n",
        "    for file_num in range(1,9):\n",
        "        full_file_name = file_target_dir+'file{}.p'.format(file_num)\n",
        "        print('Loading file: {}'.format(full_file_name))\n",
        "        with open(full_file_name, 'rb') as fp:\n",
        "            data = pickle.load(fp)\n",
        "        word_dict_loded.update(data)\n",
        "    return word_dict_loded"
      ],
      "execution_count": 0,
      "outputs": []
    },
    {
      "cell_type": "markdown",
      "metadata": {
        "id": "9Q_JnfjRBqEK",
        "colab_type": "text"
      },
      "source": [
        "The next block will download the files from my github repository and load them, you can also download the files directrly from here and run the cell bellow it instead (you must first uncomment the lines)"
      ]
    },
    {
      "cell_type": "code",
      "metadata": {
        "id": "_nyL2S4m0SQy",
        "colab_type": "code",
        "outputId": "28bafc47-c245-4183-fb9f-f54475d28e76",
        "colab": {
          "base_uri": "https://localhost:8080/",
          "height": 327
        }
      },
      "source": [
        "file_target_dir = \"./tmp/\"\n",
        "\n",
        "#Download files\n",
        "download_files_from_github(file_target_dir)\n",
        "#Load files and create dict\n",
        "word_dict = load_word2vecfiles(file_target_dir)"
      ],
      "execution_count": 4,
      "outputs": [
        {
          "output_type": "stream",
          "text": [
            "Downloading file:  ./tmp/file1.p\n",
            "Downloading file:  ./tmp/file2.p\n",
            "Downloading file:  ./tmp/file3.p\n",
            "Downloading file:  ./tmp/file4.p\n",
            "Downloading file:  ./tmp/file5.p\n",
            "Downloading file:  ./tmp/file6.p\n",
            "Downloading file:  ./tmp/file7.p\n",
            "Downloading file:  ./tmp/file8.p\n",
            "Loading file: ./tmp/file1.p\n",
            "Loading file: ./tmp/file2.p\n",
            "Loading file: ./tmp/file3.p\n",
            "Loading file: ./tmp/file4.p\n",
            "Loading file: ./tmp/file5.p\n",
            "Loading file: ./tmp/file6.p\n",
            "Loading file: ./tmp/file7.p\n",
            "Loading file: ./tmp/file8.p\n"
          ],
          "name": "stdout"
        }
      ]
    },
    {
      "cell_type": "markdown",
      "metadata": {
        "id": "54fgNBLFCA3g",
        "colab_type": "text"
      },
      "source": [
        "If you wish to check out the other word vector files, you can download them here ([zip files](https://nlp.stanford.edu/data/glove.6B.zip)).\n",
        "After downloading and unziping, uncomment the next cell and run it."
      ]
    },
    {
      "cell_type": "code",
      "metadata": {
        "id": "AybqspWFCAHB",
        "colab_type": "code",
        "colab": {}
      },
      "source": [
        ""
      ],
      "execution_count": 0,
      "outputs": []
    },
    {
      "cell_type": "markdown",
      "metadata": {
        "id": "t4JD1gAzELKe",
        "colab_type": "text"
      },
      "source": [
        ""
      ]
    },
    {
      "cell_type": "markdown",
      "metadata": {
        "id": "TdCkcvCkC5OW",
        "colab_type": "text"
      },
      "source": [
        "#  cosine_similarity\n",
        "\n",
        "Cosine similarity reflects the degree of similarity between two vectors.\n",
        "\n",
        "As I mentioned, there are more efficiant ways to do this, but in this way, you are able to see exactly what is being calcualed.\n",
        "\n",
        "Run the next cell"
      ]
    },
    {
      "cell_type": "code",
      "metadata": {
        "id": "2hYFUUEB0SQ7",
        "colab_type": "code",
        "colab": {}
      },
      "source": [
        "def cosine_similarity(u, v):\n",
        "    \"\"\"\n",
        "    Cosine similarity reflects the degree of similarity between u and v\n",
        "        \n",
        "    Arguments:\n",
        "        u -- a word vector of shape (n,)          \n",
        "        v -- a word vector of shape (n,)\n",
        "\n",
        "    Returns:\n",
        "        cosine_similarity -- the cosine similarity between u and v defined by the formula above.\n",
        "    \"\"\"\n",
        "    \n",
        "    distance = 0.0\n",
        "    epsilon=1e-10 #Prevent dividing by 0\n",
        "    # Compute the dot product between u and v (≈1 line)\n",
        "    dot = np.dot(u.T,v)\n",
        "    # Compute the L2 norm of u (≈1 line)\n",
        "    norm_u = np.sqrt(np.sum(u**2))\n",
        "    \n",
        "    # Compute the L2 norm of v (≈1 line)\n",
        "    norm_v = np.sqrt(np.sum(v**2))\n",
        "    # Compute the cosine similarity defined by formula (1) (≈1 line)\n",
        "    cosine_similarity = dot/((norm_u*norm_v)+epsilon)\n",
        "    \n",
        "    return cosine_similarity    "
      ],
      "execution_count": 0,
      "outputs": []
    },
    {
      "cell_type": "markdown",
      "metadata": {
        "id": "ICMSzuiIEV_e",
        "colab_type": "text"
      },
      "source": [
        "# most_k_similar \n",
        "\n",
        "A function the finds the most similar word to the input word by calculating the cosine similarity between the word vector and the other word vectors and returning K most similar words"
      ]
    },
    {
      "cell_type": "code",
      "metadata": {
        "id": "Yoy_z5z10SRO",
        "colab_type": "code",
        "colab": {}
      },
      "source": [
        "def most_k_similar(word_in,word_dict,k=1):\n",
        "    \"\"\"\n",
        "    most_k_similar finds most similar k number of words\n",
        "        \n",
        "    Arguments:\n",
        "        word_in -- a word in the corpus\n",
        "        word_dict -- dictinary of word - word vector pairs\n",
        "        k -- number of words to return\n",
        "    Returns:\n",
        "        list of most similar words\n",
        "    \"\"\"\n",
        "    words = word_dict.keys()\n",
        "    word_vec = word_dict[word_in]\n",
        "    \n",
        "    \n",
        "    most_similars_heap = [(-100, '') for _ in range(k)]\n",
        "\n",
        "        \n",
        "    for w in words:\n",
        "        if w==word_in:\n",
        "            continue\n",
        "        \n",
        "        cosine_sim = cosine_similarity(word_vec, word_dict[w])\n",
        "        heappushpop(most_similars_heap, (cosine_sim, w))\n",
        "    most_similars_tuples = [tup for tup in most_similars_heap]  \n",
        "    _,best_words = zip(*most_similars_tuples)\n",
        "    return best_words"
      ],
      "execution_count": 0,
      "outputs": []
    },
    {
      "cell_type": "markdown",
      "metadata": {
        "id": "HTf_LwIGGAnb",
        "colab_type": "text"
      },
      "source": [
        "# doesnt_match\n",
        "takes list of words and returns the word the doesnt match by comaparing the cosine similarities between each word with all other words and returning the words with the lowest score"
      ]
    },
    {
      "cell_type": "code",
      "metadata": {
        "id": "BBv-TTVI0SRV",
        "colab_type": "code",
        "colab": {}
      },
      "source": [
        "def doesnt_match(words,word_dict):\n",
        "    \n",
        "    dots_tot = []\n",
        "    for w in words:\n",
        "        dots = 0\n",
        "        for w2 in words:\n",
        "            if w2 == w:\n",
        "                continue\n",
        "            v = word_dict[w]\n",
        "            u = word_dict[w2]\n",
        "            dots=dots+cosine_similarity(v,u)\n",
        "        \n",
        "        dots_tot.append(dots)\n",
        "    \n",
        "    return(words[np.argmin(dots_tot)])         \n",
        "    \n",
        "    "
      ],
      "execution_count": 0,
      "outputs": []
    },
    {
      "cell_type": "markdown",
      "metadata": {
        "id": "A779HNu1GVZW",
        "colab_type": "text"
      },
      "source": [
        "# complete_analogy\n",
        "\n",
        "To find the analogy between words, this function subtracks one word vector from the other, and then add the difference to the vector of the third word.\n",
        "The difference between two word vectors represents the difference between their meaning, or the relationship between them, also know as their analogy.\n",
        "By adding this difference to a diferent word vector, you can find a forth word that has the same relationship with word 3 as words 1 and 2 have\n",
        "\n",
        "meaning: man is to king as woman is to X (queen)"
      ]
    },
    {
      "cell_type": "code",
      "metadata": {
        "id": "9pa8ShYX0SRB",
        "colab_type": "code",
        "colab": {}
      },
      "source": [
        "def complete_analogy(word_a, word_b, word_c, word_dict):\n",
        "    \"\"\"\n",
        "    Performs the word analogy task as explained above: a is to b as c is to ____. \n",
        "    \n",
        "    Arguments:\n",
        "    word_a -- a word, string\n",
        "    word_b -- a word, string\n",
        "    word_c -- a word, string\n",
        "    word_to_vec_map -- dictionary that maps words to their corresponding vectors. \n",
        "    \n",
        "    Returns:\n",
        "    best_word --  the word such that v_b - v_a is close to v_best_word - v_c, as measured by cosine similarity\n",
        "    \"\"\"\n",
        "    \n",
        "    # convert words to lowercase\n",
        "    word_a, word_b, word_c = word_a.lower(), word_b.lower(), word_c.lower()\n",
        "    \n",
        "    # Get the word embeddings e_a, e_b and e_c (≈1-3 lines)\n",
        "    e_a, e_b, e_c = word_dict[word_a],word_dict[word_b],word_dict[word_c]\n",
        "    \n",
        "    words = word_dict.keys()\n",
        "    max_cosine_sim = -100              # Initialize max_cosine_sim to a large negative number\n",
        "    best_word = None                   # Initialize best_word with None, it will help keep track of the word to output\n",
        "\n",
        "    # to avoid best_word being one of the input words, skip the input words\n",
        "    # place the input words in a set for faster searching than a list\n",
        "    # We will re-use this set of input words inside the for-loop\n",
        "    input_words_set = set([word_a, word_b, word_c])\n",
        "    \n",
        "    # loop over the whole word vector set\n",
        "    \n",
        "    cnt=1\n",
        "    \n",
        "    for w in words:        \n",
        "        # to avoid best_word being one of the input words, skip the input words\n",
        "        if w in input_words_set:\n",
        "            continue\n",
        "        \n",
        "        #Compute cosine similarity between the vector (e_b - e_a) and the vector ((w's vector representation) - e_c)  (≈1 line)\n",
        "        cosine_sim = cosine_similarity(e_b - e_a, word_dict[w]- e_c)\n",
        "        \n",
        "        # If the cosine_sim is more than the max_cosine_sim seen so far,\n",
        "            # then: set the new max_cosine_sim to the current cosine_sim and the best_word to the current word (≈3 lines)\n",
        "        if cosine_sim > max_cosine_sim:\n",
        "            max_cosine_sim = cosine_sim\n",
        "            best_word = w\n",
        "    return best_word"
      ],
      "execution_count": 0,
      "outputs": []
    },
    {
      "cell_type": "markdown",
      "metadata": {
        "id": "onD2sqwWKCKa",
        "colab_type": "text"
      },
      "source": [
        "# Time to run some code and see the results\n",
        "Try replacing the word and running again"
      ]
    },
    {
      "cell_type": "markdown",
      "metadata": {
        "id": "vlB-lIFtKac0",
        "colab_type": "text"
      },
      "source": [
        "### Examples of \"dosnt match\""
      ]
    },
    {
      "cell_type": "code",
      "metadata": {
        "id": "XLp5MeY80SRe",
        "colab_type": "code",
        "outputId": "45cd5ebe-4018-4116-e401-a98ff26757a6",
        "colab": {
          "base_uri": "https://localhost:8080/",
          "height": 36
        }
      },
      "source": [
        "doesnt_match(['red','two','one','four'],word_dict)"
      ],
      "execution_count": 9,
      "outputs": [
        {
          "output_type": "execute_result",
          "data": {
            "text/plain": [
              "'red'"
            ]
          },
          "metadata": {
            "tags": []
          },
          "execution_count": 9
        }
      ]
    },
    {
      "cell_type": "code",
      "metadata": {
        "id": "qeTNmoct0SRm",
        "colab_type": "code",
        "outputId": "cbe71358-051f-47dc-b5b9-ea9a98652ce1",
        "colab": {
          "base_uri": "https://localhost:8080/",
          "height": 36
        }
      },
      "source": [
        "doesnt_match(['red','one','blue','orange'],word_dict)"
      ],
      "execution_count": 10,
      "outputs": [
        {
          "output_type": "execute_result",
          "data": {
            "text/plain": [
              "'one'"
            ]
          },
          "metadata": {
            "tags": []
          },
          "execution_count": 10
        }
      ]
    },
    {
      "cell_type": "code",
      "metadata": {
        "id": "kLWincuv0SRt",
        "colab_type": "code",
        "outputId": "3ccceb16-4b56-4d04-e024-9ae5670144fb",
        "colab": {
          "base_uri": "https://localhost:8080/",
          "height": 36
        }
      },
      "source": [
        "doesnt_match(['up','down','yes','back','front'],word_dict)"
      ],
      "execution_count": 11,
      "outputs": [
        {
          "output_type": "execute_result",
          "data": {
            "text/plain": [
              "'yes'"
            ]
          },
          "metadata": {
            "tags": []
          },
          "execution_count": 11
        }
      ]
    },
    {
      "cell_type": "code",
      "metadata": {
        "id": "Xa_vGeb30SRz",
        "colab_type": "code",
        "outputId": "d6d3a238-a50d-4e06-f3ed-62f3201637b7",
        "colab": {
          "base_uri": "https://localhost:8080/",
          "height": 36
        }
      },
      "source": [
        "doesnt_match(['big','small','huge'],word_dict)"
      ],
      "execution_count": 0,
      "outputs": [
        {
          "output_type": "execute_result",
          "data": {
            "text/plain": [
              "'small'"
            ]
          },
          "metadata": {
            "tags": []
          },
          "execution_count": 14
        }
      ]
    },
    {
      "cell_type": "code",
      "metadata": {
        "id": "1Zs3VfV60SR5",
        "colab_type": "code",
        "outputId": "ee4ab817-c24b-4e19-f029-3364c6210756",
        "colab": {
          "base_uri": "https://localhost:8080/",
          "height": 36
        }
      },
      "source": [
        "doesnt_match(['big','small','tiny'],word_dict)"
      ],
      "execution_count": 0,
      "outputs": [
        {
          "output_type": "execute_result",
          "data": {
            "text/plain": [
              "'big'"
            ]
          },
          "metadata": {
            "tags": []
          },
          "execution_count": 15
        }
      ]
    },
    {
      "cell_type": "markdown",
      "metadata": {
        "id": "WO_bZx9YKrCJ",
        "colab_type": "text"
      },
      "source": [
        "### Examples of \"most similar\""
      ]
    },
    {
      "cell_type": "code",
      "metadata": {
        "id": "dHVo1N-h0SR_",
        "colab_type": "code",
        "outputId": "fec5d5c5-a2db-4a5f-f4cc-e8ea4cc1b7af",
        "colab": {
          "base_uri": "https://localhost:8080/",
          "height": 36
        }
      },
      "source": [
        "print(most_k_similar('small',word_dict,10))"
      ],
      "execution_count": 0,
      "outputs": [
        {
          "output_type": "stream",
          "text": [
            "('few', 'one', 'typically', 'mostly', 'usually', 'smaller', 'well', 'larger', 'tiny', 'large')\n"
          ],
          "name": "stdout"
        }
      ]
    },
    {
      "cell_type": "code",
      "metadata": {
        "id": "pJLFNGleK2dD",
        "colab_type": "code",
        "outputId": "6b3d0941-8072-4d69-c858-666412b2f772",
        "colab": {
          "base_uri": "https://localhost:8080/",
          "height": 36
        }
      },
      "source": [
        "print(most_k_similar('god',word_dict,10))"
      ],
      "execution_count": 0,
      "outputs": [
        {
          "output_type": "stream",
          "text": [
            "('gods', 'true', 'jesus', 'sacred', 'christ', 'faith', 'allah', 'heaven', 'holy', 'divine')\n"
          ],
          "name": "stdout"
        }
      ]
    },
    {
      "cell_type": "markdown",
      "metadata": {
        "id": "IuWfg7KkLCSc",
        "colab_type": "text"
      },
      "source": [
        "### Examples of Analogies\n",
        "a to b as c is to X"
      ]
    },
    {
      "cell_type": "code",
      "metadata": {
        "id": "_kd5Ab1a0SSF",
        "colab_type": "code",
        "outputId": "e710c6e1-93e0-49ef-f7df-c0e63651094b",
        "colab": {
          "base_uri": "https://localhost:8080/",
          "height": 36
        }
      },
      "source": [
        "complete_analogy('man', 'woman', 'actor', word_dict)"
      ],
      "execution_count": 0,
      "outputs": [
        {
          "output_type": "execute_result",
          "data": {
            "text/plain": [
              "'actress'"
            ]
          },
          "metadata": {
            "tags": []
          },
          "execution_count": 17
        }
      ]
    },
    {
      "cell_type": "code",
      "metadata": {
        "id": "juZRsOgB0SSM",
        "colab_type": "code",
        "outputId": "732112db-ff74-456e-8a9a-53f8ee88cee8",
        "colab": {
          "base_uri": "https://localhost:8080/",
          "height": 36
        }
      },
      "source": [
        "complete_analogy('man', 'king', 'woman', word_dict)"
      ],
      "execution_count": 0,
      "outputs": [
        {
          "output_type": "execute_result",
          "data": {
            "text/plain": [
              "'queen'"
            ]
          },
          "metadata": {
            "tags": []
          },
          "execution_count": 18
        }
      ]
    },
    {
      "cell_type": "code",
      "metadata": {
        "id": "tjYqaqv70SSW",
        "colab_type": "code",
        "outputId": "22bc3a7e-ae85-44d1-a11b-5e0f7ecd4b1c",
        "colab": {
          "base_uri": "https://localhost:8080/",
          "height": 36
        }
      },
      "source": [
        "complete_analogy('japan', 'japanese', 'australia',word_dict)"
      ],
      "execution_count": 0,
      "outputs": [
        {
          "output_type": "execute_result",
          "data": {
            "text/plain": [
              "'british'"
            ]
          },
          "metadata": {
            "tags": []
          },
          "execution_count": 19
        }
      ]
    },
    {
      "cell_type": "code",
      "metadata": {
        "id": "5UaV13fw0SSr",
        "colab_type": "code",
        "outputId": "6a185cc3-c0d6-46bf-f4f7-9de9743191ef",
        "colab": {
          "base_uri": "https://localhost:8080/",
          "height": 36
        }
      },
      "source": [
        "complete_analogy('usa', 'obama', 'israel',word_dict)"
      ],
      "execution_count": 0,
      "outputs": [
        {
          "output_type": "execute_result",
          "data": {
            "text/plain": [
              "'netanyahu'"
            ]
          },
          "metadata": {
            "tags": []
          },
          "execution_count": 27
        }
      ]
    },
    {
      "cell_type": "code",
      "metadata": {
        "id": "72VupA3E0SSv",
        "colab_type": "code",
        "outputId": "d645ec16-0714-4ad0-8c6f-fbfc266e64d4",
        "colab": {}
      },
      "source": [
        "complete_analogy('tall', 'tallest', 'long',word_dict)"
      ],
      "execution_count": 0,
      "outputs": [
        {
          "output_type": "execute_result",
          "data": {
            "text/plain": [
              "'longest'"
            ]
          },
          "metadata": {
            "tags": []
          },
          "execution_count": 92
        }
      ]
    },
    {
      "cell_type": "code",
      "metadata": {
        "id": "pNp34uYD0SS2",
        "colab_type": "code",
        "outputId": "ef39c758-cb8d-4a12-a829-502b9b8af245",
        "colab": {}
      },
      "source": [
        "complete_analogy('good', 'fantastic', 'bad',word_dict)"
      ],
      "execution_count": 0,
      "outputs": [
        {
          "output_type": "execute_result",
          "data": {
            "text/plain": [
              "'incredible'"
            ]
          },
          "metadata": {
            "tags": []
          },
          "execution_count": 93
        }
      ]
    },
    {
      "cell_type": "code",
      "metadata": {
        "id": "Va_Q37wh0SS7",
        "colab_type": "code",
        "outputId": "8776ac9f-a777-4268-d53c-745d63d4391a",
        "colab": {}
      },
      "source": [
        "complete_analogy('germany', 'berlin', 'israel',word_dict)"
      ],
      "execution_count": 0,
      "outputs": [
        {
          "output_type": "execute_result",
          "data": {
            "text/plain": [
              "'jerusalem'"
            ]
          },
          "metadata": {
            "tags": []
          },
          "execution_count": 98
        }
      ]
    },
    {
      "cell_type": "code",
      "metadata": {
        "id": "R3YDiZSG0SS_",
        "colab_type": "code",
        "outputId": "7541d744-e6e8-4087-f85e-70c7f52c8346",
        "colab": {}
      },
      "source": [
        "complete_analogy('germany', 'europe', 'israel',word_dict)"
      ],
      "execution_count": 0,
      "outputs": [
        {
          "output_type": "execute_result",
          "data": {
            "text/plain": [
              "'asia'"
            ]
          },
          "metadata": {
            "tags": []
          },
          "execution_count": 99
        }
      ]
    },
    {
      "cell_type": "code",
      "metadata": {
        "id": "L0V1mmz50STG",
        "colab_type": "code",
        "outputId": "d86cebdc-0218-4a89-9821-c185413b52b6",
        "colab": {}
      },
      "source": [
        "complete_analogy('good', 'bad', 'up',word_dict)"
      ],
      "execution_count": 0,
      "outputs": [
        {
          "output_type": "execute_result",
          "data": {
            "text/plain": [
              "'subprime'"
            ]
          },
          "metadata": {
            "tags": []
          },
          "execution_count": 285
        }
      ]
    },
    {
      "cell_type": "markdown",
      "metadata": {
        "id": "v1AalZ2ALMl4",
        "colab_type": "text"
      },
      "source": [
        "# Time for some visualizations\n",
        "run the next cell"
      ]
    },
    {
      "cell_type": "markdown",
      "metadata": {
        "id": "QjqaKwTpLZBs",
        "colab_type": "text"
      },
      "source": [
        "# display_pca_scatterplot_iplot\n",
        "Takes a list of words and their vector representations\n",
        "Since we can't plot 50 dimention vectors, we must extract the most important feuters. We are doing it here using PCA, but this can be done in other methods such as t-SNE.\n",
        "\n",
        "The plots are intercative, and you can zoom in and out or rotate the axes.\n",
        "\n",
        "Inputs:\n",
        "\n",
        "\n",
        "*   word_dict = word_widt, ditionary with all word and word vector pairs\n",
        "*   words = None, a list of words to plot, if is None, randomly pick sample  sized words from word_dict\n",
        "*   sample = 0, number of words to display if words is none, is sample is 0, display all 400k words, this will take some time\n",
        "\n",
        "\n",
        "\n",
        "\n"
      ]
    },
    {
      "cell_type": "code",
      "metadata": {
        "id": "lngnC1H60STk",
        "colab_type": "code",
        "colab": {}
      },
      "source": [
        "def display_pca_scatterplot_iplot(word_dict=word_dict, words=None, sample=0):\n",
        "    if words == None:\n",
        "        if sample > 0:\n",
        "            words = np.random.choice(list(word_dict.keys()), sample)\n",
        "        else:\n",
        "            words = word_dict.keys()\n",
        "        \n",
        "    word_vectors = np.array([word_dict[w] for w in words])\n",
        "\n",
        "    twodim = PCA().fit_transform(word_vectors)[:,:4]\n",
        "    \n",
        "    fig = px.scatter_3d(x=twodim[:,0], y=twodim[:,1],z=twodim[:,2],color=twodim[:,3], text=words, log_x=False, size_max=60)\n",
        "    #fig = px.scatter(x=twodim[:,0], y=twodim[:,1],color=twodim[:,2], text=words, log_x=False, size_max=60)\n",
        "\n",
        "    fig.update_traces(textposition='top center')\n",
        "\n",
        "    fig.update_layout(\n",
        "        title_text='PCA'\n",
        "    )\n",
        "\n",
        "    fig.show()"
      ],
      "execution_count": 0,
      "outputs": []
    },
    {
      "cell_type": "code",
      "metadata": {
        "id": "7M6BzzOG0STo",
        "colab_type": "code",
        "outputId": "87806b7c-64c6-40d9-90f9-b0d34dbd6190",
        "colab": {
          "base_uri": "https://localhost:8080/",
          "height": 542
        }
      },
      "source": [
        "display_pca_scatterplot_iplot(word_dict, \n",
        "                        ['coffee', 'tea', 'beer', 'wine', 'brandy', 'rum', 'champagne', 'water',\n",
        "                         'spaghetti', 'borscht', 'hamburger', 'pizza', 'falafel', 'sushi', 'meatballs',\n",
        "                         'dog', 'horse', 'cat', 'monkey', 'parrot', 'koala', 'lizard',\n",
        "                         'frog', 'toad', 'monkey', 'ape', 'kangaroo', 'wombat', 'wolf',\n",
        "                         'france', 'germany', 'hungary', 'luxembourg', 'australia', 'fiji', 'china',\n",
        "                         'homework', 'assignment', 'problem', 'exam', 'test', 'class',\n",
        "                         'school', 'college', 'university', 'institute','soda','fanta','cars'])"
      ],
      "execution_count": 19,
      "outputs": [
        {
          "output_type": "display_data",
          "data": {
            "text/html": [
              "<html>\n",
              "<head><meta charset=\"utf-8\" /></head>\n",
              "<body>\n",
              "    <div>\n",
              "            <script src=\"https://cdnjs.cloudflare.com/ajax/libs/mathjax/2.7.5/MathJax.js?config=TeX-AMS-MML_SVG\"></script><script type=\"text/javascript\">if (window.MathJax) {MathJax.Hub.Config({SVG: {font: \"STIX-Web\"}});}</script>\n",
              "                <script type=\"text/javascript\">window.PlotlyConfig = {MathJaxConfig: 'local'};</script>\n",
              "        <script src=\"https://cdn.plot.ly/plotly-latest.min.js\"></script>    \n",
              "            <div id=\"828bccf6-084e-4036-a0a3-fd8a278b884b\" class=\"plotly-graph-div\" style=\"height:525px; width:100%;\"></div>\n",
              "            <script type=\"text/javascript\">\n",
              "                \n",
              "                    window.PLOTLYENV=window.PLOTLYENV || {};\n",
              "                    \n",
              "                if (document.getElementById(\"828bccf6-084e-4036-a0a3-fd8a278b884b\")) {\n",
              "                    Plotly.newPlot(\n",
              "                        '828bccf6-084e-4036-a0a3-fd8a278b884b',\n",
              "                        [{\"hoverlabel\": {\"namelength\": 0}, \"hovertemplate\": \"x=%{x}<br>y=%{y}<br>z=%{z}<br>text=%{text}<br>color=%{marker.color}\", \"legendgroup\": \"\", \"marker\": {\"color\": [1.6525349419624586, 1.9184040849137962, 1.3681497942480831, 1.3995315497239915, 0.2895951697436449, 0.9028461912876613, 0.844198338591523, 2.655633211838767, -1.9779178207999502, -1.6194290812374974, -2.0196169552631535, -1.030723614283158, -1.7034035525098006, -1.3085940887250935, -2.1955675181516034, 0.8397567338415483, 1.1258660929871744, 0.6247817951203909, 0.5920568974447199, 0.3211535532410057, -0.21861844170659525, 0.6894703756346305, 1.0543423137476617, 1.1225122762778408, 0.59205689744472, 0.03757827389589449, -0.02780780169882581, -1.624407695907604, 0.22579825981756874, 0.2356644404499116, -1.1492582238306717, -1.0776539381520707, -1.1107574952730785, 1.0892050742348098, 0.1763674874771551, 1.0470169973695622, -2.567101963422515, -2.17887825982145, 0.18892682845138253, -1.6195408006714385, 0.5312764846110005, -0.2654779497825668, -0.1162067354999786, -0.25474493463917997, -0.09787486555755018, 0.39699478635830854, 1.1670435562097432, -0.22186156287700112, 1.296680892885827], \"coloraxis\": \"coloraxis\", \"symbol\": \"circle\"}, \"mode\": \"markers+text\", \"name\": \"\", \"scene\": \"scene\", \"showlegend\": false, \"text\": [\"coffee\", \"tea\", \"beer\", \"wine\", \"brandy\", \"rum\", \"champagne\", \"water\", \"spaghetti\", \"borscht\", \"hamburger\", \"pizza\", \"falafel\", \"sushi\", \"meatballs\", \"dog\", \"horse\", \"cat\", \"monkey\", \"parrot\", \"koala\", \"lizard\", \"frog\", \"toad\", \"monkey\", \"ape\", \"kangaroo\", \"wombat\", \"wolf\", \"france\", \"germany\", \"hungary\", \"luxembourg\", \"australia\", \"fiji\", \"china\", \"homework\", \"assignment\", \"problem\", \"exam\", \"test\", \"class\", \"school\", \"college\", \"university\", \"institute\", \"soda\", \"fanta\", \"cars\"], \"textposition\": \"top center\", \"type\": \"scatter3d\", \"x\": [-0.8672450378800065, -0.8230871316825322, -1.250130558026714, -0.5285299873079602, -1.820420700554077, -2.7542083820031227, -1.4645672615516694, 0.7800224982524048, -2.379429691640676, -2.513869540750377, -0.7628263080725578, -1.8781256846625607, -2.2782628752709586, -1.8798130944692468, -2.0225142750571607, -0.755067395167665, 0.031740198144429264, -0.9106684914373472, -1.4501778676867971, -1.693958082027459, -1.4551722834764504, -1.6327249327536977, -1.7382453300264809, -2.2815073465301294, -1.4501778676867971, -1.3177484220700446, -1.1755968650639792, -1.589266115320541, -0.00527072129029154, 2.847291476695409, 3.656163976759444, 2.17035726975828, 1.630951532500396, 2.600699181201624, 0.7832859568306758, 2.964171634173539, 0.626645061368543, 1.4255308674987495, 2.1115391751351336, 2.394594175808857, 2.5102348400625805, 2.017465812238185, 3.444514903200274, 3.6839552991587157, 4.612279324521599, 3.8745638518762533, -1.714271268182172, -2.783449048993894, 1.0103255314582829], \"y\": [2.175845896466444, 1.4439891089790728, 2.629065616943313, 2.4129745248386074, 1.654512838651102, 1.547249560676845, 2.536586852738597, 0.8120004872776889, 1.0557960753516509, -0.21077190991702924, 1.6948172032866273, 1.8609073194132704, 0.9631788521918506, 1.0608468427082332, 1.1883953430122935, -1.5575445417287894, -0.9044452654822734, -1.7998644813389086, -2.4218885384907956, -1.8648687356673148, -1.6498144464490203, -2.439450314865011, -2.655199370007867, -2.328147933901545, -2.4218885384907956, -2.5624890323533385, -1.7855060164340284, -2.161981676846383, -1.4466164978616676, 2.8241946391248183, 2.150464942250933, 1.588061931281961, 2.4722888761425312, 0.1569444734840679, -0.259205196340395, 0.6143592170083282, -0.3614837905751789, -0.6154112663170662, -0.21132550484482213, -1.6803095136412411, -0.8642327872057244, -0.261315786118418, -1.2421846362211442, -1.610344895093673, -1.1813366716222389, -1.0789504336649398, 1.9274396654781538, 0.9686303739547215, 1.8380271402184891], \"z\": [-1.4037920824777894, -0.7469635353148968, -1.0296323684048483, -1.4633525327642785, -0.5405745160895673, -0.47355530585602473, -1.2025829450842003, -0.7084990002503103, -0.2761384181524477, -0.43143539697947364, 0.3131327666894269, -1.1340108175288306, -0.07764829642589718, -0.9333934968442207, 0.6235490744923216, -0.6056595188741518, -0.3437854989971153, 0.181756156019927, 0.11615572867725907, 1.535271342910681, 1.3783523942587268, 1.4426612017271445, 1.1211511639963319, 0.668024444976276, 0.11615572867725907, 0.8271124740580994, 0.9839724028802146, 0.5670749833853108, 0.6571001037087782, 2.343425472578418, 2.3794323237245676, 3.1246297416718707, 2.846590718186525, 2.5128051517387813, 2.5106486547968876, 1.9030542597250382, -2.7628544161603736, -0.9360093074001321, -0.17299822994288402, -2.0173204020144366, -0.027516180611622677, -0.8126929601813689, -2.6117525979805514, -2.8653836187685777, -1.8903782625947219, -0.6618882695301416, -1.755723802097401, 0.24354889859165343, -0.5100634101452375]}],\n",
              "                        {\"coloraxis\": {\"colorbar\": {\"title\": {\"text\": \"color\"}}, \"colorscale\": [[0.0, \"#0d0887\"], [0.1111111111111111, \"#46039f\"], [0.2222222222222222, \"#7201a8\"], [0.3333333333333333, \"#9c179e\"], [0.4444444444444444, \"#bd3786\"], [0.5555555555555556, \"#d8576b\"], [0.6666666666666666, \"#ed7953\"], [0.7777777777777778, \"#fb9f3a\"], [0.8888888888888888, \"#fdca26\"], [1.0, \"#f0f921\"]]}, \"legend\": {\"tracegroupgap\": 0}, \"margin\": {\"t\": 60}, \"scene\": {\"domain\": {\"x\": [0.0, 1.0], \"y\": [0.0, 1.0]}, \"xaxis\": {\"title\": {\"text\": \"x\"}}, \"yaxis\": {\"title\": {\"text\": \"y\"}}, \"zaxis\": {\"title\": {\"text\": \"z\"}}}, \"template\": {\"data\": {\"bar\": [{\"error_x\": {\"color\": \"#2a3f5f\"}, \"error_y\": {\"color\": \"#2a3f5f\"}, \"marker\": {\"line\": {\"color\": \"#E5ECF6\", \"width\": 0.5}}, \"type\": \"bar\"}], \"barpolar\": [{\"marker\": {\"line\": {\"color\": \"#E5ECF6\", \"width\": 0.5}}, \"type\": \"barpolar\"}], \"carpet\": [{\"aaxis\": {\"endlinecolor\": \"#2a3f5f\", \"gridcolor\": \"white\", \"linecolor\": \"white\", \"minorgridcolor\": \"white\", \"startlinecolor\": \"#2a3f5f\"}, \"baxis\": {\"endlinecolor\": \"#2a3f5f\", \"gridcolor\": \"white\", \"linecolor\": \"white\", \"minorgridcolor\": \"white\", \"startlinecolor\": \"#2a3f5f\"}, \"type\": \"carpet\"}], \"choropleth\": [{\"colorbar\": {\"outlinewidth\": 0, \"ticks\": \"\"}, \"type\": \"choropleth\"}], \"contour\": [{\"colorbar\": {\"outlinewidth\": 0, \"ticks\": \"\"}, \"colorscale\": [[0.0, \"#0d0887\"], [0.1111111111111111, \"#46039f\"], [0.2222222222222222, \"#7201a8\"], [0.3333333333333333, \"#9c179e\"], [0.4444444444444444, \"#bd3786\"], [0.5555555555555556, \"#d8576b\"], [0.6666666666666666, \"#ed7953\"], [0.7777777777777778, \"#fb9f3a\"], [0.8888888888888888, \"#fdca26\"], [1.0, \"#f0f921\"]], \"type\": \"contour\"}], \"contourcarpet\": [{\"colorbar\": {\"outlinewidth\": 0, \"ticks\": \"\"}, \"type\": \"contourcarpet\"}], \"heatmap\": [{\"colorbar\": {\"outlinewidth\": 0, \"ticks\": \"\"}, \"colorscale\": [[0.0, \"#0d0887\"], [0.1111111111111111, \"#46039f\"], [0.2222222222222222, \"#7201a8\"], [0.3333333333333333, \"#9c179e\"], [0.4444444444444444, \"#bd3786\"], [0.5555555555555556, \"#d8576b\"], [0.6666666666666666, \"#ed7953\"], [0.7777777777777778, \"#fb9f3a\"], [0.8888888888888888, \"#fdca26\"], [1.0, \"#f0f921\"]], \"type\": \"heatmap\"}], \"heatmapgl\": [{\"colorbar\": {\"outlinewidth\": 0, \"ticks\": \"\"}, \"colorscale\": [[0.0, \"#0d0887\"], [0.1111111111111111, \"#46039f\"], [0.2222222222222222, \"#7201a8\"], [0.3333333333333333, \"#9c179e\"], [0.4444444444444444, \"#bd3786\"], [0.5555555555555556, \"#d8576b\"], [0.6666666666666666, \"#ed7953\"], [0.7777777777777778, \"#fb9f3a\"], [0.8888888888888888, \"#fdca26\"], [1.0, \"#f0f921\"]], \"type\": \"heatmapgl\"}], \"histogram\": [{\"marker\": {\"colorbar\": {\"outlinewidth\": 0, \"ticks\": \"\"}}, \"type\": \"histogram\"}], \"histogram2d\": [{\"colorbar\": {\"outlinewidth\": 0, \"ticks\": \"\"}, \"colorscale\": [[0.0, \"#0d0887\"], [0.1111111111111111, \"#46039f\"], [0.2222222222222222, \"#7201a8\"], [0.3333333333333333, \"#9c179e\"], [0.4444444444444444, \"#bd3786\"], [0.5555555555555556, \"#d8576b\"], [0.6666666666666666, \"#ed7953\"], [0.7777777777777778, \"#fb9f3a\"], [0.8888888888888888, \"#fdca26\"], [1.0, \"#f0f921\"]], \"type\": \"histogram2d\"}], \"histogram2dcontour\": [{\"colorbar\": {\"outlinewidth\": 0, \"ticks\": \"\"}, \"colorscale\": [[0.0, \"#0d0887\"], [0.1111111111111111, \"#46039f\"], [0.2222222222222222, \"#7201a8\"], [0.3333333333333333, \"#9c179e\"], [0.4444444444444444, \"#bd3786\"], [0.5555555555555556, \"#d8576b\"], [0.6666666666666666, \"#ed7953\"], [0.7777777777777778, \"#fb9f3a\"], [0.8888888888888888, \"#fdca26\"], [1.0, \"#f0f921\"]], \"type\": \"histogram2dcontour\"}], \"mesh3d\": [{\"colorbar\": {\"outlinewidth\": 0, \"ticks\": \"\"}, \"type\": \"mesh3d\"}], \"parcoords\": [{\"line\": {\"colorbar\": {\"outlinewidth\": 0, \"ticks\": \"\"}}, \"type\": \"parcoords\"}], \"pie\": [{\"automargin\": true, \"type\": \"pie\"}], \"scatter\": [{\"marker\": {\"colorbar\": {\"outlinewidth\": 0, \"ticks\": \"\"}}, \"type\": \"scatter\"}], \"scatter3d\": [{\"line\": {\"colorbar\": {\"outlinewidth\": 0, \"ticks\": \"\"}}, \"marker\": {\"colorbar\": {\"outlinewidth\": 0, \"ticks\": \"\"}}, \"type\": \"scatter3d\"}], \"scattercarpet\": [{\"marker\": {\"colorbar\": {\"outlinewidth\": 0, \"ticks\": \"\"}}, \"type\": \"scattercarpet\"}], \"scattergeo\": [{\"marker\": {\"colorbar\": {\"outlinewidth\": 0, \"ticks\": \"\"}}, \"type\": \"scattergeo\"}], \"scattergl\": [{\"marker\": {\"colorbar\": {\"outlinewidth\": 0, \"ticks\": \"\"}}, \"type\": \"scattergl\"}], \"scattermapbox\": [{\"marker\": {\"colorbar\": {\"outlinewidth\": 0, \"ticks\": \"\"}}, \"type\": \"scattermapbox\"}], \"scatterpolar\": [{\"marker\": {\"colorbar\": {\"outlinewidth\": 0, \"ticks\": \"\"}}, \"type\": \"scatterpolar\"}], \"scatterpolargl\": [{\"marker\": {\"colorbar\": {\"outlinewidth\": 0, \"ticks\": \"\"}}, \"type\": \"scatterpolargl\"}], \"scatterternary\": [{\"marker\": {\"colorbar\": {\"outlinewidth\": 0, \"ticks\": \"\"}}, \"type\": \"scatterternary\"}], \"surface\": [{\"colorbar\": {\"outlinewidth\": 0, \"ticks\": \"\"}, \"colorscale\": [[0.0, \"#0d0887\"], [0.1111111111111111, \"#46039f\"], [0.2222222222222222, \"#7201a8\"], [0.3333333333333333, \"#9c179e\"], [0.4444444444444444, \"#bd3786\"], [0.5555555555555556, \"#d8576b\"], [0.6666666666666666, \"#ed7953\"], [0.7777777777777778, \"#fb9f3a\"], [0.8888888888888888, \"#fdca26\"], [1.0, \"#f0f921\"]], \"type\": \"surface\"}], \"table\": [{\"cells\": {\"fill\": {\"color\": \"#EBF0F8\"}, \"line\": {\"color\": \"white\"}}, \"header\": {\"fill\": {\"color\": \"#C8D4E3\"}, \"line\": {\"color\": \"white\"}}, \"type\": \"table\"}]}, \"layout\": {\"annotationdefaults\": {\"arrowcolor\": \"#2a3f5f\", \"arrowhead\": 0, \"arrowwidth\": 1}, \"coloraxis\": {\"colorbar\": {\"outlinewidth\": 0, \"ticks\": \"\"}}, \"colorscale\": {\"diverging\": [[0, \"#8e0152\"], [0.1, \"#c51b7d\"], [0.2, \"#de77ae\"], [0.3, \"#f1b6da\"], [0.4, \"#fde0ef\"], [0.5, \"#f7f7f7\"], [0.6, \"#e6f5d0\"], [0.7, \"#b8e186\"], [0.8, \"#7fbc41\"], [0.9, \"#4d9221\"], [1, \"#276419\"]], \"sequential\": [[0.0, \"#0d0887\"], [0.1111111111111111, \"#46039f\"], [0.2222222222222222, \"#7201a8\"], [0.3333333333333333, \"#9c179e\"], [0.4444444444444444, \"#bd3786\"], [0.5555555555555556, \"#d8576b\"], [0.6666666666666666, \"#ed7953\"], [0.7777777777777778, \"#fb9f3a\"], [0.8888888888888888, \"#fdca26\"], [1.0, \"#f0f921\"]], \"sequentialminus\": [[0.0, \"#0d0887\"], [0.1111111111111111, \"#46039f\"], [0.2222222222222222, \"#7201a8\"], [0.3333333333333333, \"#9c179e\"], [0.4444444444444444, \"#bd3786\"], [0.5555555555555556, \"#d8576b\"], [0.6666666666666666, \"#ed7953\"], [0.7777777777777778, \"#fb9f3a\"], [0.8888888888888888, \"#fdca26\"], [1.0, \"#f0f921\"]]}, \"colorway\": [\"#636efa\", \"#EF553B\", \"#00cc96\", \"#ab63fa\", \"#FFA15A\", \"#19d3f3\", \"#FF6692\", \"#B6E880\", \"#FF97FF\", \"#FECB52\"], \"font\": {\"color\": \"#2a3f5f\"}, \"geo\": {\"bgcolor\": \"white\", \"lakecolor\": \"white\", \"landcolor\": \"#E5ECF6\", \"showlakes\": true, \"showland\": true, \"subunitcolor\": \"white\"}, \"hoverlabel\": {\"align\": \"left\"}, \"hovermode\": \"closest\", \"mapbox\": {\"style\": \"light\"}, \"paper_bgcolor\": \"white\", \"plot_bgcolor\": \"#E5ECF6\", \"polar\": {\"angularaxis\": {\"gridcolor\": \"white\", \"linecolor\": \"white\", \"ticks\": \"\"}, \"bgcolor\": \"#E5ECF6\", \"radialaxis\": {\"gridcolor\": \"white\", \"linecolor\": \"white\", \"ticks\": \"\"}}, \"scene\": {\"xaxis\": {\"backgroundcolor\": \"#E5ECF6\", \"gridcolor\": \"white\", \"gridwidth\": 2, \"linecolor\": \"white\", \"showbackground\": true, \"ticks\": \"\", \"zerolinecolor\": \"white\"}, \"yaxis\": {\"backgroundcolor\": \"#E5ECF6\", \"gridcolor\": \"white\", \"gridwidth\": 2, \"linecolor\": \"white\", \"showbackground\": true, \"ticks\": \"\", \"zerolinecolor\": \"white\"}, \"zaxis\": {\"backgroundcolor\": \"#E5ECF6\", \"gridcolor\": \"white\", \"gridwidth\": 2, \"linecolor\": \"white\", \"showbackground\": true, \"ticks\": \"\", \"zerolinecolor\": \"white\"}}, \"shapedefaults\": {\"line\": {\"color\": \"#2a3f5f\"}}, \"ternary\": {\"aaxis\": {\"gridcolor\": \"white\", \"linecolor\": \"white\", \"ticks\": \"\"}, \"baxis\": {\"gridcolor\": \"white\", \"linecolor\": \"white\", \"ticks\": \"\"}, \"bgcolor\": \"#E5ECF6\", \"caxis\": {\"gridcolor\": \"white\", \"linecolor\": \"white\", \"ticks\": \"\"}}, \"title\": {\"x\": 0.05}, \"xaxis\": {\"automargin\": true, \"gridcolor\": \"white\", \"linecolor\": \"white\", \"ticks\": \"\", \"title\": {\"standoff\": 15}, \"zerolinecolor\": \"white\", \"zerolinewidth\": 2}, \"yaxis\": {\"automargin\": true, \"gridcolor\": \"white\", \"linecolor\": \"white\", \"ticks\": \"\", \"title\": {\"standoff\": 15}, \"zerolinecolor\": \"white\", \"zerolinewidth\": 2}}}, \"title\": {\"text\": \"PCA\"}},\n",
              "                        {\"responsive\": true}\n",
              "                    ).then(function(){\n",
              "                            \n",
              "var gd = document.getElementById('828bccf6-084e-4036-a0a3-fd8a278b884b');\n",
              "var x = new MutationObserver(function (mutations, observer) {{\n",
              "        var display = window.getComputedStyle(gd).display;\n",
              "        if (!display || display === 'none') {{\n",
              "            console.log([gd, 'removed!']);\n",
              "            Plotly.purge(gd);\n",
              "            observer.disconnect();\n",
              "        }}\n",
              "}});\n",
              "\n",
              "// Listen for the removal of the full notebook cells\n",
              "var notebookContainer = gd.closest('#notebook-container');\n",
              "if (notebookContainer) {{\n",
              "    x.observe(notebookContainer, {childList: true});\n",
              "}}\n",
              "\n",
              "// Listen for the clearing of the current output cell\n",
              "var outputEl = gd.closest('.output');\n",
              "if (outputEl) {{\n",
              "    x.observe(outputEl, {childList: true});\n",
              "}}\n",
              "\n",
              "                        })\n",
              "                };\n",
              "                \n",
              "            </script>\n",
              "        </div>\n",
              "</body>\n",
              "</html>"
            ]
          },
          "metadata": {
            "tags": []
          }
        }
      ]
    },
    {
      "cell_type": "markdown",
      "metadata": {
        "id": "qUjqORqO4-hD",
        "colab_type": "text"
      },
      "source": [
        "Pick a few words and find 10 similar words to each and display them"
      ]
    },
    {
      "cell_type": "code",
      "metadata": {
        "id": "V19tbvd90STr",
        "colab_type": "code",
        "colab": {}
      },
      "source": [
        "word_list=[]\n",
        "\n",
        "word_list.append(most_k_similar('israel' ,word_dict,10))\n",
        "word_list.append(most_k_similar('chair' ,word_dict,10))\n",
        "word_list.append(most_k_similar('spain' ,word_dict,10))\n",
        "word_list.append(most_k_similar('good' ,word_dict,10))\n",
        "\n",
        "\n",
        "words = [i for sub in word_list for i in sub]\n",
        "\n",
        "display_pca_scatterplot_iplot(word_dict, words)"
      ],
      "execution_count": 0,
      "outputs": []
    },
    {
      "cell_type": "markdown",
      "metadata": {
        "id": "hW15eCvg4Y38",
        "colab_type": "text"
      },
      "source": [
        "Randomly pick 300 words and display their vectors"
      ]
    },
    {
      "cell_type": "code",
      "metadata": {
        "id": "qk5RYSvN0ST1",
        "colab_type": "code",
        "outputId": "fee6449b-d335-47db-b416-c7e4c2ac35ef",
        "colab": {
          "base_uri": "https://localhost:8080/",
          "height": 542
        }
      },
      "source": [
        "display_pca_scatterplot_iplot(word_dict, sample=300)"
      ],
      "execution_count": 0,
      "outputs": [
        {
          "output_type": "display_data",
          "data": {
            "text/html": [
              "<html>\n",
              "<head><meta charset=\"utf-8\" /></head>\n",
              "<body>\n",
              "    <div>\n",
              "            <script src=\"https://cdnjs.cloudflare.com/ajax/libs/mathjax/2.7.5/MathJax.js?config=TeX-AMS-MML_SVG\"></script><script type=\"text/javascript\">if (window.MathJax) {MathJax.Hub.Config({SVG: {font: \"STIX-Web\"}});}</script>\n",
              "                <script type=\"text/javascript\">window.PlotlyConfig = {MathJaxConfig: 'local'};</script>\n",
              "        <script src=\"https://cdn.plot.ly/plotly-latest.min.js\"></script>    \n",
              "            <div id=\"2ad2f9dd-53ad-4d4a-bcae-b1ff501ae6ca\" class=\"plotly-graph-div\" style=\"height:525px; width:100%;\"></div>\n",
              "            <script type=\"text/javascript\">\n",
              "                \n",
              "                    window.PLOTLYENV=window.PLOTLYENV || {};\n",
              "                    \n",
              "                if (document.getElementById(\"2ad2f9dd-53ad-4d4a-bcae-b1ff501ae6ca\")) {\n",
              "                    Plotly.newPlot(\n",
              "                        '2ad2f9dd-53ad-4d4a-bcae-b1ff501ae6ca',\n",
              "                        [{\"hoverlabel\": {\"namelength\": 0}, \"hovertemplate\": \"x=%{x}<br>y=%{y}<br>z=%{z}<br>text=%{text}<br>color=%{marker.color}\", \"legendgroup\": \"\", \"marker\": {\"color\": [-0.8847457367501045, -0.4329251070032516, -0.5873002885548775, -0.9579345210823624, 0.3316805407686215, -0.6452360579231502, 0.1572747861967443, 1.332847210226801, 1.2265386696625336, -0.821311572505851, 0.11884765203701975, -0.24640611250244399, 1.6854349104521447, 0.86007320585704, -0.22044300083065194, -0.2293708138058322, -1.1097985973044346, 0.3040046900514478, -0.14606133420658135, -0.7385571843124554, 0.6360354747767303, -0.24647003748983287, 0.912795553434087, 0.2969581673407597, 0.06661686765766446, -1.4629150162916196, -1.2584909208497894, 0.5851719017586275, 1.1080909935330976, 0.3916727553306853, 0.5235381924945168, 0.7426078353345896, 0.6403339159531313, -1.2420110742445334, 0.34408533964571386, 0.10798349783079474, -0.2153786714191027, 0.4860530591943764, 0.40482439524302677, -0.9227753051346643, -0.3660660857352513, -1.0684406445905779, 1.2478555683301717, -0.2658689567610853, 1.3174136157367742, 0.22333049275627442, 0.008353637715972579, 1.4683826584256119, -0.7998713914621869, 0.008054874139616098, -0.31735004562424757, -0.10711474642928381, -1.4748078264975817, 0.4747270529741676, 0.683606436144518, -0.6431446966272029, 0.4738341648630433, 0.0925179544749238, -1.109610812450647, -0.2834560560425868, -0.9462353346686746, -0.5585375120904401, -0.48256272011504125, -0.4313116585680599, 1.161496843083651, 0.1663927290521357, 0.07415932638341378, -1.6385577121085373, 1.3036023544843278, -0.18289159324706789, 1.4693674957051022, 0.5598654673755448, 0.0581475838067811, -0.39518168755011496, -0.7790721004946082, -0.8062735185374261, 0.5431431575642691, 0.9076840986112716, 1.745089787348838, 5.0229071664610405, -0.38928249622929084, 0.9336062073016903, 0.5511220989256042, -0.11417853309642628, -0.08505273197409549, 1.6418380032328026, 0.34790027080718444, 0.08660793548653585, 0.6980009892423098, -1.1238080783375672, 0.06225025401534031, -0.22953627822072914, -1.4085925280181983, 0.2768532672714992, 0.7010163695690862, -0.26362158550890513, -0.3219195963847978, 0.9636051326335343, -0.45179010504366024, -1.1176496751735927, -0.13498165944787752, -0.045508619585092454, -1.3384360693651087, 0.18783970722113233, 0.11550847196398244, 0.774619899811361, -0.8018805190480216, -0.642818543730502, -0.6747711652185345, -0.531826927015728, -0.3602276058089336, 0.18521711811764693, -0.22679113136819992, 0.03666492499529138, -1.4030590739642064, -0.1112867570369776, -0.9086466667650904, 0.8537184802129786, -1.0580695337351274, -0.0016328560235782, 1.298938041506444, 0.5186495104970509, 0.5302144653128065, 0.48586776749588334, 0.20832987604033437, 0.05151404576818144, -1.535949041395069, -0.055130050545618696, 0.5200427764578046, -1.021517555056002, 1.9020736625298167, 2.1630961862955247, 0.2707138336965124, -0.882240354495572, 0.1901825634500484, 1.0951790934339518, -1.3216936521620108, -1.4998832122428407, 1.4240404649165304, 0.8574040626954786, 0.3453116978601605, -0.8046673114091222, -1.4116307949238893, -0.2566848316810212, -1.2955493417303217, 0.968006854112229, -0.9669958224184234, -0.2197008837449248, -0.7773940988463918, 1.3751731719740878, -0.8005535891998564, 0.5825371219786233, -1.275302619389723, 1.0048766089720984, 0.2950350125860929, 0.19771403788919512, 0.18765856571284104, 0.14041163211172775, 0.21985959039618938, 0.953391231561261, 0.3689966481885004, 1.7722548535142377, 1.0300648411378366, 0.6149560789405181, -0.5023108816314391, 1.6935274108398681, 2.3199121048591493, 0.513352201068951, -0.7753418479608953, 0.3654271388844825, 0.8581256051063633, -0.8801738682704798, -0.9875396549906857, -0.18311412985687947, 0.31052731555123475, -0.5889508132815277, 1.2278910843109694, -2.0621340229531353, -0.10409158200118106, 0.3025460740275473, -0.14804315550410715, -0.36394017448589255, -0.07586426403470922, 0.8518324417558334, -0.43110698428145133, -0.20874430856316228, -0.5095931419133033, -0.13811796655073727, -0.6510090722459713, -0.9736079049844739, 0.2734176337983067, 2.1879013835829455, 0.028844911281071785, 0.16536350030985694, -0.7098969966027122, -0.11125985122838114, 0.3900542826227394, 0.8692715912155249, -0.21691529112452718, 0.2786127050696868, -1.4887027267788882, -1.138507738977481, -0.17321468347291927, 0.36650908528675236, 0.26480054875932596, 1.2739229658410163, -0.05297925458380542, 0.8820621368681024, -0.6046684275390544, -0.5513139042265015, -0.8211188362459613, -0.45912839507366726, -1.4578649822551428, -0.3214628843956449, 0.0832067219256966, -0.9219630261238068, -0.34707686711677127, 0.6625861242737049, -0.10953026817191873, 0.6758776154908803, 0.4231509898854528, -0.03838037237499453, -0.28064477373887964, 0.36816887851100705, 0.7561528185934103, -0.5781808882006244, 1.726876312336907, -0.04552561634109261, 0.273932804674248, 1.944556533283151, -0.15233034425311895, -1.426166431886689, -0.14342514262187023, -1.1457328154439688, 0.2595921379006375, -1.1036945294106966, -1.0680673401983416, 0.6582873992127635, 0.10766195996199121, -0.32145073257863604, -0.14849439886235125, -1.9693054209679621, -0.047925088168545404, -0.1583672030606076, 1.9804123047187177, 0.6282928033304827, -0.19560597699445723, 0.3838134966408286, -2.1608298038949596, -0.40366874611149195, -1.3145902007752341, -1.147887276765132, -0.7637817677103474, -0.9848375059485353, 0.21767928203269168, -0.4268751710627695, -1.3956016494414218, 0.37566973632366935, 0.9549834984847965, 0.722779538058482, -0.29151096595809006, 1.3423433187158813, 0.3014895335095128, 0.32397428136475587, -1.100251984014117, -1.4931116629450254, 0.7011505012914998, 0.3117369017035817, 0.0841807996448173, -0.39051104343695575, -0.6226351065610076, -1.1688531792939307, 1.4325854062826446, -0.07436411806648946, -0.05122251894860381, 0.5407057253727924, 0.01046156977590485, 0.6894155172583786, 0.43376216763735687, -0.5377405693887852, 0.3229956550968227, -0.2885163775601995, -0.5742722529550102, -0.5593665369680337, 1.1723501096131805, -0.454584102767704, 0.24966753155414648, 0.22626134933897757, 0.07625840873803634, -1.652657935421953, 0.4030634275989328, 0.13905933971542692, 0.04587864049562003, -0.2542546926409495, -0.6107681690654515, -0.22842027921492425, -0.6465658892436215, 0.1413785994171142, 0.050100402551825365, 0.4963450644299562], \"coloraxis\": \"coloraxis\", \"symbol\": \"circle\"}, \"mode\": \"markers+text\", \"name\": \"\", \"scene\": \"scene\", \"showlegend\": false, \"text\": [\"17:06\", \"pertains\", \"christenson\", \"thietmar\", \"suvit\", \"1225\", \"icosahedral\", \"bululu\", \"griffiss\", \"chapelry\", \"18-20\", \"fifa.com\", \"gai\", \"platense\", \"shamanistic\", \"family-oriented\", \"restituted\", \"krawcheck\", \"johnsson\", \"towels\", \"elderberry\", \"holzapfel\", \"yima\", \"xanic\", \"boulogne-sur-mer\", \"103.40\", \"185.1\", \"macombs\", \"betweens\", \"npdes\", \"castleman\", \"depardieu\", \"kadhmiyah\", \"rajamani\", \"mafikeng\", \"sanjo\", \"dressing\", \"verit\\u00e9\", \"anions\", \"gortat\", \"nisreen\", \"balanian\", \"navigazione\", \"continuance\", \"bhumika\", \"brutt\", \"marchese\", \"uscs\", \"coolpix\", \"jesenice\", \"lippy\", \"chunni\", \"caplets\", \"terek\", \"koningin\", \"rehabilitations\", \"elyas\", \"dhdr\", \"7,880\", \"barton-wright\", \"1.205\", \"ay\\u015fe\", \"solace\", \"38s\", \"pozuelo\", \"huixian\", \"caspersen\", \"93.70\", \"pacaf\", \"genpact\", \"hd1\", \"gillespie\", \"manlius\", \"eastbay\", \"instigations\", \"berkovits\", \"kapali\", \"macedonian-adrianople\", \"starring\", \"fow\", \"letha\", \"post-transcriptional\", \"liston\", \"abhyankar\", \"spyrou\", \"kolarska\", \"monino\", \"seta\", \"chw\", \"hensperger\", \"rbmk\", \"ochora\", \"60.2\", \"jaywalker\", \"louay\", \"vincour\", \"contextualization\", \"tunku\", \"\\u00fejazi\", \"olov\", \"throwbacks\", \"sideswiping\", \"1,253\", \"colour-coded\", \"drivesavers\", \"azotobacter\", \"coldfire\", \"bienvenu\", \"rejean\", \"wilgoren\", \"project-40\", \"conflagration\", \"rupertswood\", \"trackway\", \"100-150\", \"eloi\", \"minson\", \"lumea\", \"acrimonious\", \"harrill\", \"nrg\", \"nypa\", \"cambre\", \"chunfang\", \"montauk\", \"rationalize\", \"blomgren\", \"frequelin\", \"zainul\", \"76.25\", \"mongshu\", \"pistorius\", \"siracusa\", \"moratti\", \"snowbank\", \"arashi\", \"dabrowski\", \"59.91\", \"subtype\", \"postmarketing\", \"palafrugell\", \"theodelinda\", \"phadke\", \"j.b\", \"10-to-1\", \"sablons\", \"lintel\", \"-1.7\", \"abbey\", \"papabile\", \"hussian\", \"pilas\", \"104.87\", \"lahar\", \"sumaidy\", \"rossell\", \"ashfall\", \"vowles\", \"duyfken\", \"pictou\", \"ofu\", \"l'air\", \"onlys\", \"batfish\", \"pushpins\", \"fitton\", \"wailin\", \"carmakers\", \"plaster\", \"dayuan\", \"obando\", \"schannep\", \"pergamum\", \"onawa\", \"pogosyan\", \"svendborg\", \"mascherano\", \"2.98\", \"thinkpads\", \"petroglyph\", \"scio\", \",001\", \"jouett\", \"anglesey\", \"runs_sosa\", \"65-mile\", \"urlich\", \"ventidius\", \"unpronounceable\", \"bollington\", \"lieth\", \"tu-160\", \"throat\", \"n-dimensional\", \"get-rich-quick\", \"\\u00f6mer\", \"maivia\", \"sandusky\", \"vennela\", \"kablam\", \"luxenberg\", \"dial-up\", \"warton\", \"33-4\", \"evanses\", \"montevideo\", \"sinding-larsen\", \"absolve\", \"schaeuble\", \"lunds\", \"hriniak\", \"hadsel\", \"grayscale\", \"generational\", \"39-million\", \"maturity\", \"disputant\", \"benaderet\", \"ldd\", \"katy\", \"robert-houdin\", \"fierstein\", \"gizenga\", \"dumisa\", \"body\", \":04\", \"duran\", \"mcqueen\", \"epernay\", \"13-member\", \"scheungraber\", \"palestinians\", \"colonel-general\", \"brushland\", \"3.5-liter\", \"3,023\", \"komische\", \"ringholm\", \"schutz\", \"buinaksk\", \"yusif\", \"1.6875\", \"raz\\u00f3n\", \"late-october\", \"alishan\", \"diandra\", \"feca\", \"pkwy\", \"1.4770\", \"constantinescu\", \"40.76\", \"discriminated\", \"hesh\", \"100-hectare\", \"hongjiang\", \"massino\", \"87.82\", \"charade\", \"greystoke\", \"emanuelle\", \"libelled\", \"antifreeze\", \"volatility\", \"halid\", \"1,683\", \"runneth\", \"jia-a\", \"breistroff\", \"milita\", \"szentendre\", \"courthouses\", \"4,260\", \"imbricata\", \"akyuz\", \"spank\", \"14-strong\", \"vwd\", \"amel\", \"mokhzani\", \"blackmarket\", \"chaguanas\", \"moorhens\", \"zarit\", \"playbacks\", \"nouakchott\", \"plett\", \"dereck\", \"mid-town\", \"wilker\", \"11,500\", \"6.2-million\", \"four-momentum\", \"ported\", \"oestrus\", \"militaristic\", \"fom\", \"bicton\", \"cocacola\", \"multisectoral\", \"caps\"], \"textposition\": \"top center\", \"type\": \"scatter3d\", \"x\": [0.12482334625496959, 0.8018442101021591, -0.985805534599533, -0.8816900041720989, -1.2570607427436196, 0.2355297266540098, 0.8821132370116442, -1.4534646664399167, 0.6669894745122689, 0.27256756638048685, 1.5777913584081085, -1.3462426892256516, -0.42900571676634464, 0.4920813761034635, 1.5472896501300988, 1.2531817866162462, 0.32058542798406336, -1.7901542189140056, -1.593246537678956, 2.2748564295539793, 0.13027616229734612, -1.2523553627412254, -0.6204417280412851, -0.5134593964303219, 0.6661696423222427, 0.044451149223349654, -0.07696231991003505, 0.3470795715594913, 0.4054738978854362, 0.35413198649006983, -1.4564291173835955, 0.04413675216688002, 0.2105689113711199, -1.7208088929779681, 0.21695000846495993, -0.5636027622189547, 2.7070649772436384, 0.4445678511995426, 0.5527757510698299, -0.6227066699634628, -1.8617926186208862, -0.9092383748165331, -0.35915228314351466, 0.9164311042561052, -0.9363478271550438, -0.7636740157382337, -0.9306635367703111, -0.034523499311653834, 0.8729448573364983, 0.4203733330065797, -0.5305989199707835, -1.0041529959640498, 0.4803269414631172, -0.7061175730781117, -1.2200557396998126, 0.4425787357353576, -0.9944743084998104, -0.7310968402903566, -0.13793539001216096, -1.0496794661005364, 0.07140277130811035, -1.3234500874276551, 2.0942061813909407, 0.09516097670842753, -0.5211755066045801, -1.1379536761600813, -0.9391937424104497, 0.3388289264489041, 0.4394347912792021, -0.028016410225913804, 0.8624621360471593, 0.34447461517366634, -0.8193103661620933, 0.349337676821248, 0.22509818570510876, -1.058245023769012, -0.28157605179873135, 0.24120303323411266, 1.2477796801783771, -0.23900429841441911, -1.0220357600405385, -0.346310460509965, 0.12764613035286304, -1.7620826199112412, -1.2432235632695672, -2.0821021365165358, -0.26949234186313903, -0.4817914051907437, 0.06113954954807449, -2.0335211823239225, 2.452387239677274, -2.1758762169115733, 0.27889517114733214, -0.4997028653009195, -1.2737995784519303, -1.9592743662898864, 0.15405320916170134, -0.36004904243646857, -0.673122278645052, -1.0694797088377848, 1.318751927400898, 0.6785108824429754, 0.4370331616374568, 0.3162177882608143, -0.7603208865923379, -0.7519313906087745, -0.2903701372955508, -1.2392736992942828, -1.9044218620698863, -2.3609260611930094, 0.32950047438238056, 1.8379841269326596, -0.5571651576139685, 1.240289078711118, 0.6057443305810355, -0.2491172424039463, -0.8871545670789082, -1.2027620677158024, 2.254270226789418, -0.7672325945479441, 1.0661231917851417, 0.29887606936546784, -1.061864816817297, -1.6955134959060352, 1.4558503015561508, 0.7994662556902866, -1.4113089418415021, -1.6787718558317637, -1.4209128181148043, 0.1970967240899703, -0.8760138252160357, 0.49396584581062597, -0.19424496431540153, 0.4867547894669533, 0.8984900056236632, -0.026635156170834673, -1.287636317404432, 0.02238206634270725, 1.6965008174206595, 0.47298493486327237, -0.5758028221934586, -0.611011616893647, -1.5573417047356326, -0.9600445819269974, 0.3833258103963607, -0.5687596238497747, 0.9374451651636536, 0.5065873570539582, 1.7793638851578337, 0.9977243214967414, -0.4456885547394341, 0.43127134722031507, 0.1333433694563103, 0.22372442354574446, -2.0049401857652596, -1.1202430011360733, 0.35365333132279675, -1.2406207647720726, 0.3213105648628238, 0.13992936323101623, -0.6243267366846533, 0.12382017223000885, 0.12380138452828066, 0.15063380257383518, -0.03478291925298219, -0.00739637094001228, -0.4425158431291915, 1.8855341812512882, 2.2766550881710383, -0.9644609955290482, -0.5720094197071586, -0.7923786226355201, 0.2799191988531544, -0.3486338974465218, -1.6995295607776313, 0.6430679236043801, 0.18707791300596244, 1.0005236442107932, 1.1389647099748348, 0.9112740433091548, -0.46621564392614373, -0.6689859483345136, -0.799287183568039, 0.8628256016493522, 1.4498758770722275, 0.8205042493719409, -0.412536864215639, -1.11739843676304, 0.91641339444971, -0.1846945924016606, -0.6018628098171799, 1.0130314578126594, 2.226244618892579, 0.812543813326391, 0.4258958829255273, -1.3033183274355218, -0.9132839911313548, 0.8461405177210433, -1.0975999649984962, -0.21003840213438127, -0.6393541722834548, 1.3909297356339672, -1.2236897244582643, 0.12356394304297093, 0.02812698903553472, 1.2627574080029453, -1.8049339643302005, 0.5561431003582166, 0.20957692867899208, -0.23536737646999478, -0.3970085571431787, -0.7446061360150175, 1.4588792250456397, 2.4524811335732153, 0.6819885016647945, 3.0123325211273193, -0.49399586686226715, 0.0682222098887135, -0.224633161217836, -0.2179996459549262, -0.19796317269504596, 0.24600699330555886, -0.6138030472482299, -1.708783332932711, 3.898119116232814, 0.23611031917844677, 0.5350792321776733, 0.6115161593845184, 1.2950316022513437, 1.7139711515847922, -0.24525146730235006, 3.0521736716605234, -1.0734638528183402, 0.5737948753941342, 2.190051246652542, -0.4590332145450517, -0.3891269072336684, -2.2091444761250534, -0.9063463672463222, 0.6168739545961931, -1.120745232917246, -0.19113328244973085, -0.4507583445942338, 0.05194187510966029, 1.3082511040084461, -0.44089575645426626, 0.041307375036865164, -0.6223977365985588, 0.030061817337497257, 0.08790897938575998, 0.2272392303255391, 1.7378462892018611, -0.5206004420384672, -0.09130295699603669, -0.8622060579066639, -0.5282275556167613, -0.04570178183987271, 1.2815600407169745, 0.46838880877227346, 0.48985729279647633, -0.6525562673785431, 1.3443166623200504, 2.690507317196654, -0.9218762440952478, 0.32501411251166934, 0.9691815596642893, 0.8634537026315493, -1.1263535911850064, -0.16502019023936107, -0.1252169077105974, 1.44744388773371, 0.19420394899827756, -1.1940179231093755, -1.7150190198427502, 0.5017816919359517, 0.4023308056521089, -0.20897184975567992, -0.3025523752422882, -0.7346306788024448, 0.5219364918899047, 0.38838798119747, -0.07869462166977138, -0.4183389762302485, 0.540175028664287, 1.4127435868303195, -0.9890718825592616, -1.1950456422046425, 0.4451339098650747, -1.0302803664023985, 1.4407881048524032, 0.7704643627324166, 0.20488579833407178, 1.9835694045954955, 0.9364022069256646, 1.4849428213831701, 0.349126240122545, -0.003244329650100838, -0.23321981401926067, 0.207115135002984, 3.393917451932095], \"y\": [-0.7420955187859596, -0.2951639926875335, 0.6097324288671636, 0.4902220161426462, 0.5689383782910119, -0.33847451413711843, 0.8153448157205367, 0.13303426538117244, -1.0556744756399346, -0.18672232139110484, -0.16302527730754057, 0.3160709457422483, 1.0286429226961156, -0.23486818237839918, -0.06202426162859663, -0.6613943677285314, -0.055918694549561436, 0.46185098730252977, 1.3586107066007551, 1.178717783916795, 0.19934299933087318, 0.47355563912175397, -0.9013203889398077, -0.46247495236267666, -1.3677808624027963, -1.177919606462919, -1.0023376316504946, -1.436664461485412, 0.5712541918740391, -2.1144880961312986, 0.7484824413053319, 2.7805058269615714, -1.5860141172940365, 0.45821128624950863, -1.6885108123652783, -0.9297476244374594, 2.08686126845754, -1.117734427350743, 1.7890802301378126, 0.2424548556688209, 0.29911549888511935, 1.101623381765989, -0.05746009430932524, -0.31633139509910124, 0.12639395752910357, -0.02978973445713217, 1.4349085855295618, -0.8956660557907715, -0.5308876009318234, -1.134391374158881, 0.34128735181415615, 0.7111232154973974, 0.33880105662321597, -0.07983360551775791, 0.5601571621163441, -0.7622991131310602, 0.8436427744629944, -1.2298586472945705, -0.34020964708282564, -0.5265261309857381, -0.5189211757622654, -0.09752361412478727, 0.33476638235504685, -0.6076117490542251, -0.7291250215737296, -0.3001674630703947, -0.033855518102645886, -0.20734905680360677, -0.5759425651376394, -0.6339016622504626, -0.9273518085428047, 1.373049683458009, -0.9541092771089753, -1.345069076226135, -0.09108221093828839, 0.3041246735902884, 2.650628589392282, 0.3953207332781603, 2.835252784001175, -0.3251506648985877, 0.7396611236948913, -0.7555673322962173, 0.5640085123718509, 0.8333769831394519, -0.7859430626400182, 0.2270234134571435, -1.6072287660536495, -0.5619195461077673, -0.27583673510693163, 0.7261952038632622, 0.38309732186901163, 0.2746762164825509, 0.19739279938855897, -0.21064740045298644, -0.0602119432078282, 0.54993306769399, -0.8585442782097368, 1.2098052600509495, -0.367873475942644, 2.249070850993618, -0.24649976627106715, -1.5633631653951703, 0.09037007938438836, -0.4385528725782867, -0.8282528085070249, -0.23271119160000847, -0.6685542381272067, 0.3033107576965894, 1.7960681973219463, 0.18655874275187545, -0.29439678530454166, 0.3470039407179327, -1.341511153853965, -0.68889011812684, 0.21039585318879697, 0.7287608138694958, 0.03321644888966457, -0.5623395494645642, 0.6905913978889356, 0.17898440688837103, -0.30972970620093054, -0.8777388111497698, 0.4549692579722859, 0.5043320104477526, -1.9065121090030968, 0.5484076446459885, 0.9694937667079436, 1.5981329834072386, 1.1869766058729785, -1.1125763934244337, -1.50586156877061, 0.7980144415088537, -0.06159015174712795, 2.89681685926239, -0.5302428890598339, 0.6325836783900405, 1.1863587623216079, -0.01302678163370321, -0.09331311773542118, -1.2456493711572822, -1.6244789496847194, -0.6634360176757458, 0.2316395792291407, -0.44151056728583676, -0.15065797279872564, -0.7037013542440254, 0.21602649891338546, -0.26168269991511894, 0.6385230116961783, 1.130422779275267, 0.22728276107288856, -1.6643498159496257, -1.1295490726549418, 0.10094735836496116, 1.0627782792847544, 0.34915081845085144, -0.4808311945325161, 0.3094693775649174, -0.5430238348057596, -1.5669838221752395, -0.5386882679124553, -0.3134088109789008, 0.38191554600823857, -0.34799494899334177, -0.21715359747794152, 0.6145355569600257, -0.5762695549274474, 1.4045930671777622, 1.8553433899765788, -0.9996882681519146, 0.18828049387891868, 0.628372716739576, -0.279382926919709, -0.8773237739081351, 1.184462799806299, -1.4303742199769764, 1.2882071914161017, 0.4016922529784732, -0.8781704944319568, -1.52879285282704, -1.064323985221857, -1.3642746399023107, 0.11469324578885269, -1.4059310209230331, -0.8432544297301229, -0.9101511419217237, 0.4697337558427308, 0.05124103624241117, 0.02628558535760389, -0.6671957729960968, 0.4833655188683854, 0.8571117680326826, 2.244778383349658, -0.03883050934381494, -0.2598258238093079, 0.9429741314372723, 0.10715365314035313, -0.6523388273130947, 0.8048509112817539, -0.02090152279209249, 0.9386792230876881, -1.5729793481309577, 0.5807798706590201, -1.4381573957697837, -0.5312081139772254, -0.15307680958431888, 0.5012072836494401, 0.8107856072256783, 3.6325837579502167, -0.5448527498878539, 0.43237512814419266, -0.5347173113415217, -0.7366988775482946, 0.8488896953926102, -0.337002938585996, 1.1854975453547985, -0.10748711240333209, -0.2575074396340898, -0.46077420107834643, -0.2724928936933584, 0.42240838052854257, 1.7311733064581676, 1.2297272049836165, -0.70585076563458, 2.804631028585059, -0.583444694475532, 1.7153250679331307, 1.611755523128066, -0.4797951745512235, 1.172620453597798, 0.6822617720977111, 2.029045765095087, 1.157673798331297, -1.3544837314075842, 0.7778983970998236, -0.2553448453225853, -0.610033777328153, 1.2342669808989295, 1.2653947913418053, -1.0313566280886413, 0.3965324924028425, -1.0013908120814754, 0.10595144364084536, -0.8462017340711158, -1.8690167565736173, 0.2949021343587294, -0.3600932474824324, -1.4817588244916389, 0.2502192251395849, 1.8178019756318609, -0.871587205263662, 0.4635919786939823, 0.8720018427355644, -1.4856246595687803, -0.5330015577770111, 1.8181481324229567, -0.6895889389418906, 0.6543666309185787, -0.6230034188642993, -0.4793241640623165, 0.4071425183947624, 1.058473153412229, 1.48698773162386, 0.14478467644643975, -0.504540274939, 0.34890276481132176, -0.3569387053130193, 1.4113862263177026, -0.16085801000620042, -0.8658878370582762, -1.8105289585307422, -0.6684033801026448, -0.11467348136246312, 0.32837720804629233, 0.8199339111931079, -0.34736214982929686, -0.1203619495336875, -0.6608073818672302, 1.194513922456742, -0.25177334726988854, -1.590286483037116, 0.5667581831676736, -1.2195116993554158, -1.0150582005276407, -0.6771498914470117, 0.5341413925982592, -0.362957683346123, -1.648694725886851, 0.4278560132944134, 0.21413313213428428, -0.5333454583978213, -0.9501046037601947, -0.30167328518339087, -0.6544975059141775, 0.30321828555613906, -0.11292013585824094, -1.9370656593792885, -0.3761346271769469, -1.3441841294155665, 1.8162760756164833], \"z\": [-1.153778422225864, -0.09817557005712729, 0.03342799968417265, 1.0179968752352102, 0.06683665971943259, -0.033269473512692674, -2.408832826822393, 0.43227979097275965, -0.32072740027346613, 0.907936500236393, -0.3925481782430561, -0.1324290199910055, 0.3184151601566216, 1.3087108042195124, -0.3294672761569088, -0.23210726432645892, -0.02103718032267582, 1.2071264167010007, -0.14887031880824114, 0.7809689782938245, 0.03250173018862218, 0.32074092834433254, 0.49570063469907044, -0.15895233308295925, 0.6003111341782921, -0.32595977561864486, -0.607753946214016, 0.9359550584694528, -0.9999896276783331, -2.066629464509023, 0.7552297305934691, 1.3030275461485654, 1.0825481895198317, 0.5789411467564929, 0.6190938097738244, 0.39733632325799473, 1.2489319467395097, -0.4249536244576443, -1.183071285829079, 0.14662463056159153, -1.0147032627774277, -0.6784407308202217, 1.821556106138021, 0.46349295386168354, -0.12870383903504992, -1.9899702278864042, 1.1238181413067232, -1.0324199875732205, -1.1428813277442587, 0.6451827286045925, 0.04169323139823007, -0.2380744652113473, -0.9543319150362157, 0.5808732879017475, 0.43059525686701, -0.08197453874042274, 0.1462769857264502, -1.4805344364869095, -0.3291963342840209, 0.3857133387128067, -0.32007029282358473, 0.3847383330304073, 1.5685963635613382, -0.6972885684802883, 0.44060332132472835, 1.0327087367752692, 1.2896441500009594, -0.7920705942788754, -1.0499822271029065, 0.44251335437673905, -0.6401130867587496, 1.3921252792740741, 1.1358435839836833, 0.03377041674333884, -1.0137131472290561, -0.664728455755268, -0.8015463682924305, -2.6821547272943187, 2.324701433140835, -0.8525566676615124, 0.9258048227107339, -0.8138621760798745, 1.9838080339997517, -0.5442037059893079, 0.14266903188196564, -0.28387931530190935, -0.27593612205472, 0.6895698249556087, 0.1208105326135835, -0.040565904973207736, -2.87364384906558, 0.5323607018955714, 0.3597627883303935, -0.47216300326198446, -0.7929550725146085, -0.41024530422607897, 0.2461984298683845, 1.3758210770999686, 0.22604873094004926, -1.4153128081171085, -0.8752379769079589, 0.39232651886142217, -0.34612312117059213, -0.20535850696850796, 0.08398966674134421, -0.8108247518900394, 0.06432996410019366, 0.7633462700089475, -1.0147923364297577, 0.2548803515789162, -1.9643265065606137, -0.8401143528975348, 0.6018032869813233, 0.011300205445446762, -0.6929661744918723, 0.13522056497510523, 0.25588482695653986, -0.8033981201143436, -0.006082630695743094, -0.3847306527607216, -0.39138173247219166, -0.05559550548981411, 1.811770813036699, 0.08214666786459622, 1.0996163153151788, 0.07234241786331652, 0.12689460565479038, -0.5013156262718889, -0.8790349577775967, 0.8468186495746407, 0.45537765132146435, 0.029956248343786792, 0.7163849310511345, 0.5045802501526204, -0.05203572920190275, -0.14265011180218323, 0.010055940265854121, 0.4492052516026326, -1.059028438225643, -1.2008611840971397, 0.3230940796939879, 1.354475306043578, 0.029524335850218842, 0.16368371143507268, -0.97319545877758, -0.5509173356051471, 0.5524827926277023, -1.1406853749100556, 3.256411896760964, -2.8235830914488025, 1.469747508088491, 0.8245986711900055, 0.3541840905527157, -0.23775040249750518, -1.2210748376891607, 0.290603196269641, -0.5472489312201623, 0.7472814258566546, -0.16987234060476553, 2.710760746104574, 0.3184802799797306, -0.5265860113377706, -0.4141171005055348, -0.7256447667120899, -0.6990841412382465, -0.4975719303790674, -1.6354004402700772, -0.5531182709673851, 1.112048366848602, 0.8437395604219602, 1.7954812845065307, -0.46793970429257764, 0.8100563557972957, 0.5956681823500796, -0.9461691174463333, 1.694114825014647, 0.5632851698284128, 0.05762269747407085, -0.8994033561074323, -0.5321407786890252, 0.6113220265248704, -1.8915671870099982, 0.6270345526859303, 2.4819573536371244, 0.5048837006452521, -1.405685068674506, 1.0361158568736022, -0.5441352078720162, -0.46757414731217256, 1.7379546176522958, -0.404957803457188, -1.4351032839491578, 0.8911557256939989, -2.1086451310119867, 0.6371342158546549, -0.9008997305604673, 0.5285187595371074, 1.7837035425544456, -0.7988229568436966, -0.5494644629003889, 0.8175110896194077, -0.13964219709003772, 0.2952898063289869, -0.19831429630194383, -0.5656645303339336, 0.9858128931768569, 0.1513601470907906, 0.39808568049534704, -0.9740797135201474, 0.2767408649004125, 0.2960389861587925, 1.0293671626198877, -0.2668012014023168, -0.24655157919953521, -1.266619666754688, 0.020620764215348832, -0.8530053424918153, 0.2727939422071758, -0.535383758932615, 2.2895322367984496, 0.8894043056245606, 0.8864532368714877, 0.9061075014899158, -0.9615833111766064, 0.8213256409807002, -1.0940991579433033, 0.8235973508227867, 1.3632095466725658, 0.5151186401226023, -0.08502576258860432, -0.7079682486029502, -0.16087936309017367, -0.6902379738198118, 0.547559444620119, -0.7027222737157847, -0.6945283519132043, -0.6053846113695323, 0.7246834455992855, 0.31673968698450183, 0.6478408964420252, -0.30120122626609974, 0.41957655968228585, -0.05696436592500844, -0.21526696350987978, 1.503119797388165, 0.7963125191764286, -0.33504756864811247, 0.21937632743854132, 0.6130647817655513, 0.3605621335361679, 0.36074728901921144, 1.1482778814570167, -0.36593275288777866, -1.411604897359063, 0.6950082915666598, 1.4050950446142414, 0.018695791872785056, 0.24732405145799363, 2.4305226415550742, 0.43394677593258857, -0.30279496485469937, -0.2861058078302513, -0.2968274509996577, 1.0502288541077784, -0.3115646176471223, -0.3145972859149241, -2.0376009733942815, -0.7024800965684549, -0.645559655968513, 0.5397371259982716, 0.5639909521677201, -1.0479953937506576, -0.5005714019439437, -1.000351029105015, 0.20040131498302216, -0.85909816775882, -2.6569834739135474, 0.13729857452012448, -0.26813640695869057, -1.8430804317667246, 1.3594630931586795, 0.2771633530550866, 0.5063153282338534, 0.15056170612863307, 1.0984689551887403, -0.43459242259352604, -0.10580523691857939, 0.26795203680291674, 0.609247401797117, -1.245406125184578, -1.7009907285411643, -0.8970175966051367, 0.52304826484542, -0.9947474383860603, -0.9975813485130954, -0.18835152329080118, 1.1130778206096612, -1.0174782495870398, -0.5532275509597155, -0.19263041012578805]}],\n",
              "                        {\"coloraxis\": {\"colorbar\": {\"title\": {\"text\": \"color\"}}, \"colorscale\": [[0.0, \"#0d0887\"], [0.1111111111111111, \"#46039f\"], [0.2222222222222222, \"#7201a8\"], [0.3333333333333333, \"#9c179e\"], [0.4444444444444444, \"#bd3786\"], [0.5555555555555556, \"#d8576b\"], [0.6666666666666666, \"#ed7953\"], [0.7777777777777778, \"#fb9f3a\"], [0.8888888888888888, \"#fdca26\"], [1.0, \"#f0f921\"]]}, \"legend\": {\"tracegroupgap\": 0}, \"margin\": {\"t\": 60}, \"scene\": {\"domain\": {\"x\": [0.0, 1.0], \"y\": [0.0, 1.0]}, \"xaxis\": {\"title\": {\"text\": \"x\"}}, \"yaxis\": {\"title\": {\"text\": \"y\"}}, \"zaxis\": {\"title\": {\"text\": \"z\"}}}, \"template\": {\"data\": {\"bar\": [{\"error_x\": {\"color\": \"#2a3f5f\"}, \"error_y\": {\"color\": \"#2a3f5f\"}, \"marker\": {\"line\": {\"color\": \"#E5ECF6\", \"width\": 0.5}}, \"type\": \"bar\"}], \"barpolar\": [{\"marker\": {\"line\": {\"color\": \"#E5ECF6\", \"width\": 0.5}}, \"type\": \"barpolar\"}], \"carpet\": [{\"aaxis\": {\"endlinecolor\": \"#2a3f5f\", \"gridcolor\": \"white\", \"linecolor\": \"white\", \"minorgridcolor\": \"white\", \"startlinecolor\": \"#2a3f5f\"}, \"baxis\": {\"endlinecolor\": \"#2a3f5f\", \"gridcolor\": \"white\", \"linecolor\": \"white\", \"minorgridcolor\": \"white\", \"startlinecolor\": \"#2a3f5f\"}, \"type\": \"carpet\"}], \"choropleth\": [{\"colorbar\": {\"outlinewidth\": 0, \"ticks\": \"\"}, \"type\": \"choropleth\"}], \"contour\": [{\"colorbar\": {\"outlinewidth\": 0, \"ticks\": \"\"}, \"colorscale\": [[0.0, \"#0d0887\"], [0.1111111111111111, \"#46039f\"], [0.2222222222222222, \"#7201a8\"], [0.3333333333333333, \"#9c179e\"], [0.4444444444444444, \"#bd3786\"], [0.5555555555555556, \"#d8576b\"], [0.6666666666666666, \"#ed7953\"], [0.7777777777777778, \"#fb9f3a\"], [0.8888888888888888, \"#fdca26\"], [1.0, \"#f0f921\"]], \"type\": \"contour\"}], \"contourcarpet\": [{\"colorbar\": {\"outlinewidth\": 0, \"ticks\": \"\"}, \"type\": \"contourcarpet\"}], \"heatmap\": [{\"colorbar\": {\"outlinewidth\": 0, \"ticks\": \"\"}, \"colorscale\": [[0.0, \"#0d0887\"], [0.1111111111111111, \"#46039f\"], [0.2222222222222222, \"#7201a8\"], [0.3333333333333333, \"#9c179e\"], [0.4444444444444444, \"#bd3786\"], [0.5555555555555556, \"#d8576b\"], [0.6666666666666666, \"#ed7953\"], [0.7777777777777778, \"#fb9f3a\"], [0.8888888888888888, \"#fdca26\"], [1.0, \"#f0f921\"]], \"type\": \"heatmap\"}], \"heatmapgl\": [{\"colorbar\": {\"outlinewidth\": 0, \"ticks\": \"\"}, \"colorscale\": [[0.0, \"#0d0887\"], [0.1111111111111111, \"#46039f\"], [0.2222222222222222, \"#7201a8\"], [0.3333333333333333, \"#9c179e\"], [0.4444444444444444, \"#bd3786\"], [0.5555555555555556, \"#d8576b\"], [0.6666666666666666, \"#ed7953\"], [0.7777777777777778, \"#fb9f3a\"], [0.8888888888888888, \"#fdca26\"], [1.0, \"#f0f921\"]], \"type\": \"heatmapgl\"}], \"histogram\": [{\"marker\": {\"colorbar\": {\"outlinewidth\": 0, \"ticks\": \"\"}}, \"type\": \"histogram\"}], \"histogram2d\": [{\"colorbar\": {\"outlinewidth\": 0, \"ticks\": \"\"}, \"colorscale\": [[0.0, \"#0d0887\"], [0.1111111111111111, \"#46039f\"], [0.2222222222222222, \"#7201a8\"], [0.3333333333333333, \"#9c179e\"], [0.4444444444444444, \"#bd3786\"], [0.5555555555555556, \"#d8576b\"], [0.6666666666666666, \"#ed7953\"], [0.7777777777777778, \"#fb9f3a\"], [0.8888888888888888, \"#fdca26\"], [1.0, \"#f0f921\"]], \"type\": \"histogram2d\"}], \"histogram2dcontour\": [{\"colorbar\": {\"outlinewidth\": 0, \"ticks\": \"\"}, \"colorscale\": [[0.0, \"#0d0887\"], [0.1111111111111111, \"#46039f\"], [0.2222222222222222, \"#7201a8\"], [0.3333333333333333, \"#9c179e\"], [0.4444444444444444, \"#bd3786\"], [0.5555555555555556, \"#d8576b\"], [0.6666666666666666, \"#ed7953\"], [0.7777777777777778, \"#fb9f3a\"], [0.8888888888888888, \"#fdca26\"], [1.0, \"#f0f921\"]], \"type\": \"histogram2dcontour\"}], \"mesh3d\": [{\"colorbar\": {\"outlinewidth\": 0, \"ticks\": \"\"}, \"type\": \"mesh3d\"}], \"parcoords\": [{\"line\": {\"colorbar\": {\"outlinewidth\": 0, \"ticks\": \"\"}}, \"type\": \"parcoords\"}], \"pie\": [{\"automargin\": true, \"type\": \"pie\"}], \"scatter\": [{\"marker\": {\"colorbar\": {\"outlinewidth\": 0, \"ticks\": \"\"}}, \"type\": \"scatter\"}], \"scatter3d\": [{\"line\": {\"colorbar\": {\"outlinewidth\": 0, \"ticks\": \"\"}}, \"marker\": {\"colorbar\": {\"outlinewidth\": 0, \"ticks\": \"\"}}, \"type\": \"scatter3d\"}], \"scattercarpet\": [{\"marker\": {\"colorbar\": {\"outlinewidth\": 0, \"ticks\": \"\"}}, \"type\": \"scattercarpet\"}], \"scattergeo\": [{\"marker\": {\"colorbar\": {\"outlinewidth\": 0, \"ticks\": \"\"}}, \"type\": \"scattergeo\"}], \"scattergl\": [{\"marker\": {\"colorbar\": {\"outlinewidth\": 0, \"ticks\": \"\"}}, \"type\": \"scattergl\"}], \"scattermapbox\": [{\"marker\": {\"colorbar\": {\"outlinewidth\": 0, \"ticks\": \"\"}}, \"type\": \"scattermapbox\"}], \"scatterpolar\": [{\"marker\": {\"colorbar\": {\"outlinewidth\": 0, \"ticks\": \"\"}}, \"type\": \"scatterpolar\"}], \"scatterpolargl\": [{\"marker\": {\"colorbar\": {\"outlinewidth\": 0, \"ticks\": \"\"}}, \"type\": \"scatterpolargl\"}], \"scatterternary\": [{\"marker\": {\"colorbar\": {\"outlinewidth\": 0, \"ticks\": \"\"}}, \"type\": \"scatterternary\"}], \"surface\": [{\"colorbar\": {\"outlinewidth\": 0, \"ticks\": \"\"}, \"colorscale\": [[0.0, \"#0d0887\"], [0.1111111111111111, \"#46039f\"], [0.2222222222222222, \"#7201a8\"], [0.3333333333333333, \"#9c179e\"], [0.4444444444444444, \"#bd3786\"], [0.5555555555555556, \"#d8576b\"], [0.6666666666666666, \"#ed7953\"], [0.7777777777777778, \"#fb9f3a\"], [0.8888888888888888, \"#fdca26\"], [1.0, \"#f0f921\"]], \"type\": \"surface\"}], \"table\": [{\"cells\": {\"fill\": {\"color\": \"#EBF0F8\"}, \"line\": {\"color\": \"white\"}}, \"header\": {\"fill\": {\"color\": \"#C8D4E3\"}, \"line\": {\"color\": \"white\"}}, \"type\": \"table\"}]}, \"layout\": {\"annotationdefaults\": {\"arrowcolor\": \"#2a3f5f\", \"arrowhead\": 0, \"arrowwidth\": 1}, \"coloraxis\": {\"colorbar\": {\"outlinewidth\": 0, \"ticks\": \"\"}}, \"colorscale\": {\"diverging\": [[0, \"#8e0152\"], [0.1, \"#c51b7d\"], [0.2, \"#de77ae\"], [0.3, \"#f1b6da\"], [0.4, \"#fde0ef\"], [0.5, \"#f7f7f7\"], [0.6, \"#e6f5d0\"], [0.7, \"#b8e186\"], [0.8, \"#7fbc41\"], [0.9, \"#4d9221\"], [1, \"#276419\"]], \"sequential\": [[0.0, \"#0d0887\"], [0.1111111111111111, \"#46039f\"], [0.2222222222222222, \"#7201a8\"], [0.3333333333333333, \"#9c179e\"], [0.4444444444444444, \"#bd3786\"], [0.5555555555555556, \"#d8576b\"], [0.6666666666666666, \"#ed7953\"], [0.7777777777777778, \"#fb9f3a\"], [0.8888888888888888, \"#fdca26\"], [1.0, \"#f0f921\"]], \"sequentialminus\": [[0.0, \"#0d0887\"], [0.1111111111111111, \"#46039f\"], [0.2222222222222222, \"#7201a8\"], [0.3333333333333333, \"#9c179e\"], [0.4444444444444444, \"#bd3786\"], [0.5555555555555556, \"#d8576b\"], [0.6666666666666666, \"#ed7953\"], [0.7777777777777778, \"#fb9f3a\"], [0.8888888888888888, \"#fdca26\"], [1.0, \"#f0f921\"]]}, \"colorway\": [\"#636efa\", \"#EF553B\", \"#00cc96\", \"#ab63fa\", \"#FFA15A\", \"#19d3f3\", \"#FF6692\", \"#B6E880\", \"#FF97FF\", \"#FECB52\"], \"font\": {\"color\": \"#2a3f5f\"}, \"geo\": {\"bgcolor\": \"white\", \"lakecolor\": \"white\", \"landcolor\": \"#E5ECF6\", \"showlakes\": true, \"showland\": true, \"subunitcolor\": \"white\"}, \"hoverlabel\": {\"align\": \"left\"}, \"hovermode\": \"closest\", \"mapbox\": {\"style\": \"light\"}, \"paper_bgcolor\": \"white\", \"plot_bgcolor\": \"#E5ECF6\", \"polar\": {\"angularaxis\": {\"gridcolor\": \"white\", \"linecolor\": \"white\", \"ticks\": \"\"}, \"bgcolor\": \"#E5ECF6\", \"radialaxis\": {\"gridcolor\": \"white\", \"linecolor\": \"white\", \"ticks\": \"\"}}, \"scene\": {\"xaxis\": {\"backgroundcolor\": \"#E5ECF6\", \"gridcolor\": \"white\", \"gridwidth\": 2, \"linecolor\": \"white\", \"showbackground\": true, \"ticks\": \"\", \"zerolinecolor\": \"white\"}, \"yaxis\": {\"backgroundcolor\": \"#E5ECF6\", \"gridcolor\": \"white\", \"gridwidth\": 2, \"linecolor\": \"white\", \"showbackground\": true, \"ticks\": \"\", \"zerolinecolor\": \"white\"}, \"zaxis\": {\"backgroundcolor\": \"#E5ECF6\", \"gridcolor\": \"white\", \"gridwidth\": 2, \"linecolor\": \"white\", \"showbackground\": true, \"ticks\": \"\", \"zerolinecolor\": \"white\"}}, \"shapedefaults\": {\"line\": {\"color\": \"#2a3f5f\"}}, \"ternary\": {\"aaxis\": {\"gridcolor\": \"white\", \"linecolor\": \"white\", \"ticks\": \"\"}, \"baxis\": {\"gridcolor\": \"white\", \"linecolor\": \"white\", \"ticks\": \"\"}, \"bgcolor\": \"#E5ECF6\", \"caxis\": {\"gridcolor\": \"white\", \"linecolor\": \"white\", \"ticks\": \"\"}}, \"title\": {\"x\": 0.05}, \"xaxis\": {\"automargin\": true, \"gridcolor\": \"white\", \"linecolor\": \"white\", \"ticks\": \"\", \"title\": {\"standoff\": 15}, \"zerolinecolor\": \"white\", \"zerolinewidth\": 2}, \"yaxis\": {\"automargin\": true, \"gridcolor\": \"white\", \"linecolor\": \"white\", \"ticks\": \"\", \"title\": {\"standoff\": 15}, \"zerolinecolor\": \"white\", \"zerolinewidth\": 2}}}, \"title\": {\"text\": \"PCA\"}},\n",
              "                        {\"responsive\": true}\n",
              "                    ).then(function(){\n",
              "                            \n",
              "var gd = document.getElementById('2ad2f9dd-53ad-4d4a-bcae-b1ff501ae6ca');\n",
              "var x = new MutationObserver(function (mutations, observer) {{\n",
              "        var display = window.getComputedStyle(gd).display;\n",
              "        if (!display || display === 'none') {{\n",
              "            console.log([gd, 'removed!']);\n",
              "            Plotly.purge(gd);\n",
              "            observer.disconnect();\n",
              "        }}\n",
              "}});\n",
              "\n",
              "// Listen for the removal of the full notebook cells\n",
              "var notebookContainer = gd.closest('#notebook-container');\n",
              "if (notebookContainer) {{\n",
              "    x.observe(notebookContainer, {childList: true});\n",
              "}}\n",
              "\n",
              "// Listen for the clearing of the current output cell\n",
              "var outputEl = gd.closest('.output');\n",
              "if (outputEl) {{\n",
              "    x.observe(outputEl, {childList: true});\n",
              "}}\n",
              "\n",
              "                        })\n",
              "                };\n",
              "                \n",
              "            </script>\n",
              "        </div>\n",
              "</body>\n",
              "</html>"
            ]
          },
          "metadata": {
            "tags": []
          }
        }
      ]
    },
    {
      "cell_type": "code",
      "metadata": {
        "id": "XdJzszQV0ST4",
        "colab_type": "code",
        "colab": {}
      },
      "source": [
        ""
      ],
      "execution_count": 0,
      "outputs": []
    }
  ]
}