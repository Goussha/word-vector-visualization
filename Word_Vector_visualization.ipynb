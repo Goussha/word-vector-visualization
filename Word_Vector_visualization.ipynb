{
  "nbformat": 4,
  "nbformat_minor": 0,
  "metadata": {
    "kernelspec": {
      "display_name": "Python 3",
      "language": "python",
      "name": "python3"
    },
    "language_info": {
      "codemirror_mode": {
        "name": "ipython",
        "version": 3
      },
      "file_extension": ".py",
      "mimetype": "text/x-python",
      "name": "python",
      "nbconvert_exporter": "python",
      "pygments_lexer": "ipython3",
      "version": "3.7.3"
    },
    "colab": {
      "name": "Word_Vector_visualization.ipynb",
      "provenance": [],
      "include_colab_link": true
    }
  },
  "cells": [
    {
      "cell_type": "markdown",
      "metadata": {
        "id": "view-in-github",
        "colab_type": "text"
      },
      "source": [
        "<a href=\"https://colab.research.google.com/github/Goussha/word-vector-visualization/blob/master/Word_Vector_visualization.ipynb\" target=\"_parent\"><img src=\"https://colab.research.google.com/assets/colab-badge.svg\" alt=\"Open In Colab\"/></a>"
      ]
    },
    {
      "cell_type": "markdown",
      "metadata": {
        "id": "hNJQXT-I0SQD",
        "colab_type": "text"
      },
      "source": [
        "## Word vector visualization"
      ]
    },
    {
      "cell_type": "markdown",
      "metadata": {
        "id": "fmgtDXdM5azq",
        "colab_type": "text"
      },
      "source": [
        "This word vector visualization tool was built to illustrate some of the properties they have.\n",
        "The vectors themselves were encoded using GloVe model by the good folks at Stanford, ([link to GloVe](https://nlp.stanford.edu/projects/glove/)) and this script was heavily inspired by this page [here](https://web.stanford.edu/class/cs224n/materials/Gensim%20word%20vector%20visualization.html), taken from the materials of one of the courses in Stanford.\n",
        "\n",
        "In short, they trained GloVe model on 400k word corpus obtained from Wikipedia (at 2014) and Gigaword.\n",
        "\n",
        "I have chosen to use their smallest vectors with the least dimensions (50d), since the difference in performance was insignificant as compared to the difference in file size.\n",
        "however, you are more than welcome to download the other files from the Glove site ([zip files](https://nlp.stanford.edu/data/glove.6B.zip)) and play around with it.\n",
        "\n",
        "I changed the functions and made them slower and less efficient, but in doing so, you can see in inside of them and have a better understanding of how they work. I have also changed the plotting tools to pyplot and made some enhancements."
      ]
    },
    {
      "cell_type": "markdown",
      "metadata": {
        "id": "H3Q6cT6e_muR",
        "colab_type": "text"
      },
      "source": [
        "## Imports"
      ]
    },
    {
      "cell_type": "code",
      "metadata": {
        "id": "gDdwQ3uv0SQK",
        "colab_type": "code",
        "colab": {}
      },
      "source": [
        "# Get the interactive Tools for Matplotlib\n",
        "import matplotlib.pyplot as plt\n",
        "%matplotlib notebook\n",
        "%matplotlib inline\n",
        "\n",
        "import plotly.graph_objects as go\n",
        "import plotly.express as px\n",
        "\n",
        "\n",
        "\n",
        "# Get tools to download files and load them \n",
        "import pickle\n",
        "import urllib.request\n",
        "from os.path import exists as check_path\n",
        "from os import makedirs\n",
        "\n",
        "# Get tools to performe analysis\n",
        "import numpy as np\n",
        "from heapq import heappushpop\n",
        "from sklearn.decomposition import PCA"
      ],
      "execution_count": 0,
      "outputs": []
    },
    {
      "cell_type": "markdown",
      "metadata": {
        "id": "xa8hZgfQAauJ",
        "colab_type": "text"
      },
      "source": [
        "# Step 1: download files and load the list of word and their vector representations \n",
        " \n",
        "\n",
        "1.   Run the next blocks:\n",
        "\n",
        "\n",
        "> 1.   download_files_from_github\n",
        "> 2.   load_word2vecfiles"
      ]
    },
    {
      "cell_type": "code",
      "metadata": {
        "id": "qswqF_5O0SQh",
        "colab_type": "code",
        "colab": {}
      },
      "source": [
        "def download_files_from_github(file_target_dir):\n",
        "    main_url = 'https://raw.githubusercontent.com/Goussha/word-vector-visualization/master/'\n",
        "    if not check_path(file_target_dir):\n",
        "        makedirs(file_target_dir)\n",
        "    \n",
        "    urls = [main_url+'file{}.p'.format(x) for x in range(1,9)]\n",
        "    file_names = [file_target_dir+'file{}.p'.format(x) for x in range(1,9)]\n",
        "    for file_name, url in zip(file_names, urls):\n",
        "        if not check_path(file_name):\n",
        "            print (\"Downloading file: \",file_name)\n",
        "            filename, headers = urllib.request.urlretrieve(url, filename=file_name)\n",
        "        else:\n",
        "            print('Allready exists: {}'.format(file_name))"
      ],
      "execution_count": 0,
      "outputs": []
    },
    {
      "cell_type": "code",
      "metadata": {
        "id": "0aEmH8Kv0SQp",
        "colab_type": "code",
        "colab": {}
      },
      "source": [
        "def load_word2vecfiles(file_target_dir):\n",
        "    word_dict_loded = {}\n",
        "    for file_num in range(1,9):\n",
        "        full_file_name = file_target_dir+'file{}.p'.format(file_num)\n",
        "        print('Loading file: {}'.format(full_file_name))\n",
        "        with open(full_file_name, 'rb') as fp:\n",
        "            data = pickle.load(fp)\n",
        "        word_dict_loded.update(data)\n",
        "    return word_dict_loded"
      ],
      "execution_count": 0,
      "outputs": []
    },
    {
      "cell_type": "markdown",
      "metadata": {
        "id": "nbMazCLBwSZK",
        "colab_type": "text"
      },
      "source": [
        "Run the next cell to download and load the files from my github\n",
        "\n",
        "(should take about 15 sec to downloand and load)"
      ]
    },
    {
      "cell_type": "code",
      "metadata": {
        "id": "_nyL2S4m0SQy",
        "colab_type": "code",
        "outputId": "cbd89b4b-05ef-4874-e688-521b47add0d6",
        "colab": {
          "base_uri": "https://localhost:8080/",
          "height": 327
        }
      },
      "source": [
        "file_target_dir = \"./tmp/\"\n",
        "\n",
        "#Download files\n",
        "download_files_from_github(file_target_dir)\n",
        "#Load files and create dict\n",
        "word_dict = load_word2vecfiles(file_target_dir)"
      ],
      "execution_count": 5,
      "outputs": [
        {
          "output_type": "stream",
          "text": [
            "Downloading file:  ./tmp/file1.p\n",
            "Downloading file:  ./tmp/file2.p\n",
            "Downloading file:  ./tmp/file3.p\n",
            "Downloading file:  ./tmp/file4.p\n",
            "Downloading file:  ./tmp/file5.p\n",
            "Downloading file:  ./tmp/file6.p\n",
            "Downloading file:  ./tmp/file7.p\n",
            "Downloading file:  ./tmp/file8.p\n",
            "Loading file: ./tmp/file1.p\n",
            "Loading file: ./tmp/file2.p\n",
            "Loading file: ./tmp/file3.p\n",
            "Loading file: ./tmp/file4.p\n",
            "Loading file: ./tmp/file5.p\n",
            "Loading file: ./tmp/file6.p\n",
            "Loading file: ./tmp/file7.p\n",
            "Loading file: ./tmp/file8.p\n"
          ],
          "name": "stdout"
        }
      ]
    },
    {
      "cell_type": "markdown",
      "metadata": {
        "id": "54fgNBLFCA3g",
        "colab_type": "text"
      },
      "source": [
        "If you wish to check out the other word vector files, you can download them here ([zip files](https://nlp.stanford.edu/data/glove.6B.zip)).\n",
        "After downloading and unziping, uncomment the next cell and run it(to be added in the future)."
      ]
    },
    {
      "cell_type": "code",
      "metadata": {
        "id": "AybqspWFCAHB",
        "colab_type": "code",
        "colab": {}
      },
      "source": [
        "'''Not ready yet, to be added'''"
      ],
      "execution_count": 0,
      "outputs": []
    },
    {
      "cell_type": "markdown",
      "metadata": {
        "id": "t4JD1gAzELKe",
        "colab_type": "text"
      },
      "source": [
        ""
      ]
    },
    {
      "cell_type": "markdown",
      "metadata": {
        "id": "TdCkcvCkC5OW",
        "colab_type": "text"
      },
      "source": [
        "#  cosine_similarity\n",
        "\n",
        "Cosine similarity reflects the degree of similarity between two vectors.\n",
        "\n",
        "As I mentioned, there are more efficiant ways to do this, but in this way, you are able to see exactly what is being calcualed.\n",
        "\n",
        "Run the next cell"
      ]
    },
    {
      "cell_type": "code",
      "metadata": {
        "id": "2hYFUUEB0SQ7",
        "colab_type": "code",
        "colab": {}
      },
      "source": [
        "def cosine_similarity(u, v):\n",
        "    \"\"\"\n",
        "    Cosine similarity reflects the degree of similarity between u and v\n",
        "        \n",
        "    Arguments:\n",
        "        u -- a word vector of shape (n,)          \n",
        "        v -- a word vector of shape (n,)\n",
        "\n",
        "    Returns:\n",
        "        cosine_similarity -- the cosine similarity between u and v defined by the formula above.\n",
        "    \"\"\"\n",
        "    \n",
        "    distance = 0.0\n",
        "    epsilon=1e-10 #Prevent dividing by 0\n",
        "    # Compute the dot product between u and v (≈1 line)\n",
        "    dot = np.dot(u.T,v)\n",
        "    # Compute the L2 norm of u (≈1 line)\n",
        "    norm_u = np.sqrt(np.sum(u**2))\n",
        "    \n",
        "    # Compute the L2 norm of v (≈1 line)\n",
        "    norm_v = np.sqrt(np.sum(v**2))\n",
        "    # Compute the cosine similarity defined by formula (1) (≈1 line)\n",
        "    cosine_similarity = dot/((norm_u*norm_v)+epsilon)\n",
        "    \n",
        "    return cosine_similarity    "
      ],
      "execution_count": 0,
      "outputs": []
    },
    {
      "cell_type": "markdown",
      "metadata": {
        "id": "ICMSzuiIEV_e",
        "colab_type": "text"
      },
      "source": [
        "# most_k_similar \n",
        "\n",
        "A function the finds the most similar word to the input word by calculating the cosine similarity between the word vector and the other word vectors and returning K most similar words"
      ]
    },
    {
      "cell_type": "code",
      "metadata": {
        "id": "Yoy_z5z10SRO",
        "colab_type": "code",
        "colab": {}
      },
      "source": [
        "def most_k_similar(word_in,word_dict,k=1):\n",
        "    \"\"\"\n",
        "    most_k_similar finds most similar k number of words\n",
        "        \n",
        "    Arguments:\n",
        "        word_in -- a word in the corpus\n",
        "        word_dict -- dictinary of word - word vector pairs\n",
        "        k -- number of words to return\n",
        "    Returns:\n",
        "        list of most similar words\n",
        "    \"\"\"\n",
        "    words = word_dict.keys()\n",
        "    word_vec = word_dict[word_in]\n",
        "    \n",
        "    \n",
        "    most_similars_heap = [(-100, '') for _ in range(k)]\n",
        "\n",
        "        \n",
        "    for w in words:\n",
        "        if w==word_in:\n",
        "            continue\n",
        "        \n",
        "        cosine_sim = cosine_similarity(word_vec, word_dict[w])\n",
        "        heappushpop(most_similars_heap, (cosine_sim, w))\n",
        "    most_similars_tuples = [tup for tup in most_similars_heap]  \n",
        "    _,best_words = zip(*most_similars_tuples)\n",
        "    return best_words"
      ],
      "execution_count": 0,
      "outputs": []
    },
    {
      "cell_type": "markdown",
      "metadata": {
        "id": "HTf_LwIGGAnb",
        "colab_type": "text"
      },
      "source": [
        "# doesnt_match\n",
        "takes list of words and returns the word the doesnt match by comaparing the cosine similarities between each word with all other words and returning the words with the lowest score"
      ]
    },
    {
      "cell_type": "code",
      "metadata": {
        "id": "BBv-TTVI0SRV",
        "colab_type": "code",
        "colab": {}
      },
      "source": [
        "def doesnt_match(words,word_dict):\n",
        "    \n",
        "    dots_tot = []\n",
        "    for w in words:\n",
        "        dots = 0\n",
        "        for w2 in words:\n",
        "            if w2 == w:\n",
        "                continue\n",
        "            v = word_dict[w]\n",
        "            u = word_dict[w2]\n",
        "            dots=dots+cosine_similarity(v,u)\n",
        "        \n",
        "        dots_tot.append(dots)\n",
        "    \n",
        "    return(words[np.argmin(dots_tot)])         \n",
        "    \n",
        "    "
      ],
      "execution_count": 0,
      "outputs": []
    },
    {
      "cell_type": "markdown",
      "metadata": {
        "id": "A779HNu1GVZW",
        "colab_type": "text"
      },
      "source": [
        "# complete_analogy\n",
        "\n",
        "To find the analogy between words, this function subtracks one word vector from the other, and then add the difference to the vector of the third word.\n",
        "The difference between two word vectors represents the difference between their meaning, or the relationship between them, also know as their analogy.\n",
        "By adding this difference to a diferent word vector, you can find a forth word that has the same relationship with word 3 as words 1 and 2 have\n",
        "\n",
        "meaning: man is to king as woman is to X (queen)"
      ]
    },
    {
      "cell_type": "code",
      "metadata": {
        "id": "9pa8ShYX0SRB",
        "colab_type": "code",
        "colab": {}
      },
      "source": [
        "def complete_analogy(word_a, word_b, word_c, word_dict):\n",
        "    \"\"\"\n",
        "    Performs the word analogy task as explained above: a is to b as c is to ____. \n",
        "    \n",
        "    Arguments:\n",
        "    word_a -- a word, string\n",
        "    word_b -- a word, string\n",
        "    word_c -- a word, string\n",
        "    word_to_vec_map -- dictionary that maps words to their corresponding vectors. \n",
        "    \n",
        "    Returns:\n",
        "    best_word --  the word such that v_b - v_a is close to v_best_word - v_c, as measured by cosine similarity\n",
        "    \"\"\"\n",
        "    \n",
        "    # convert words to lowercase\n",
        "    word_a, word_b, word_c = word_a.lower(), word_b.lower(), word_c.lower()\n",
        "    \n",
        "    # Get the word embeddings e_a, e_b and e_c (≈1-3 lines)\n",
        "    e_a, e_b, e_c = word_dict[word_a],word_dict[word_b],word_dict[word_c]\n",
        "    \n",
        "    words = word_dict.keys()\n",
        "    max_cosine_sim = -100              # Initialize max_cosine_sim to a large negative number\n",
        "    best_word = None                   # Initialize best_word with None, it will help keep track of the word to output\n",
        "\n",
        "    # to avoid best_word being one of the input words, skip the input words\n",
        "    # place the input words in a set for faster searching than a list\n",
        "    # We will re-use this set of input words inside the for-loop\n",
        "    input_words_set = set([word_a, word_b, word_c])\n",
        "    \n",
        "    # loop over the whole word vector set\n",
        "    \n",
        "    cnt=1\n",
        "    \n",
        "    for w in words:        \n",
        "        # to avoid best_word being one of the input words, skip the input words\n",
        "        if w in input_words_set:\n",
        "            continue\n",
        "        \n",
        "        #Compute cosine similarity between the vector (e_b - e_a) and the vector ((w's vector representation) - e_c)  (≈1 line)\n",
        "        cosine_sim = cosine_similarity(e_b - e_a, word_dict[w]- e_c)\n",
        "        \n",
        "        # If the cosine_sim is more than the max_cosine_sim seen so far,\n",
        "            # then: set the new max_cosine_sim to the current cosine_sim and the best_word to the current word (≈3 lines)\n",
        "        if cosine_sim > max_cosine_sim:\n",
        "            max_cosine_sim = cosine_sim\n",
        "            best_word = w\n",
        "    return best_word"
      ],
      "execution_count": 0,
      "outputs": []
    },
    {
      "cell_type": "markdown",
      "metadata": {
        "id": "onD2sqwWKCKa",
        "colab_type": "text"
      },
      "source": [
        "# Time to run some code and see the results\n",
        "Try replacing the word and running again"
      ]
    },
    {
      "cell_type": "markdown",
      "metadata": {
        "id": "vlB-lIFtKac0",
        "colab_type": "text"
      },
      "source": [
        "### Examples of \"dosnt match\""
      ]
    },
    {
      "cell_type": "code",
      "metadata": {
        "id": "XLp5MeY80SRe",
        "colab_type": "code",
        "outputId": "145ac157-78b3-4dc2-ce1c-a55d796357ad",
        "colab": {
          "base_uri": "https://localhost:8080/",
          "height": 36
        }
      },
      "source": [
        "doesnt_match(['red','two','one','four'],word_dict)"
      ],
      "execution_count": 10,
      "outputs": [
        {
          "output_type": "execute_result",
          "data": {
            "text/plain": [
              "'red'"
            ]
          },
          "metadata": {
            "tags": []
          },
          "execution_count": 10
        }
      ]
    },
    {
      "cell_type": "code",
      "metadata": {
        "id": "qeTNmoct0SRm",
        "colab_type": "code",
        "outputId": "df812734-f171-4c69-e929-cf3b4be4b09e",
        "colab": {
          "base_uri": "https://localhost:8080/",
          "height": 36
        }
      },
      "source": [
        "doesnt_match(['red','one','blue','orange'],word_dict)"
      ],
      "execution_count": 11,
      "outputs": [
        {
          "output_type": "execute_result",
          "data": {
            "text/plain": [
              "'one'"
            ]
          },
          "metadata": {
            "tags": []
          },
          "execution_count": 11
        }
      ]
    },
    {
      "cell_type": "code",
      "metadata": {
        "id": "kLWincuv0SRt",
        "colab_type": "code",
        "outputId": "d512c559-0196-4d0a-c08f-accc71ecffa0",
        "colab": {
          "base_uri": "https://localhost:8080/",
          "height": 36
        }
      },
      "source": [
        "doesnt_match(['up','down','yes','back','front'],word_dict)"
      ],
      "execution_count": 12,
      "outputs": [
        {
          "output_type": "execute_result",
          "data": {
            "text/plain": [
              "'yes'"
            ]
          },
          "metadata": {
            "tags": []
          },
          "execution_count": 12
        }
      ]
    },
    {
      "cell_type": "code",
      "metadata": {
        "id": "Xa_vGeb30SRz",
        "colab_type": "code",
        "outputId": "d6d3a238-a50d-4e06-f3ed-62f3201637b7",
        "colab": {
          "base_uri": "https://localhost:8080/",
          "height": 36
        }
      },
      "source": [
        "doesnt_match(['big','small','huge'],word_dict)"
      ],
      "execution_count": 0,
      "outputs": [
        {
          "output_type": "execute_result",
          "data": {
            "text/plain": [
              "'small'"
            ]
          },
          "metadata": {
            "tags": []
          },
          "execution_count": 14
        }
      ]
    },
    {
      "cell_type": "code",
      "metadata": {
        "id": "1Zs3VfV60SR5",
        "colab_type": "code",
        "outputId": "ee4ab817-c24b-4e19-f029-3364c6210756",
        "colab": {
          "base_uri": "https://localhost:8080/",
          "height": 36
        }
      },
      "source": [
        "doesnt_match(['big','small','tiny'],word_dict)"
      ],
      "execution_count": 0,
      "outputs": [
        {
          "output_type": "execute_result",
          "data": {
            "text/plain": [
              "'big'"
            ]
          },
          "metadata": {
            "tags": []
          },
          "execution_count": 15
        }
      ]
    },
    {
      "cell_type": "markdown",
      "metadata": {
        "id": "WO_bZx9YKrCJ",
        "colab_type": "text"
      },
      "source": [
        "### Examples of \"most similar\""
      ]
    },
    {
      "cell_type": "code",
      "metadata": {
        "id": "dHVo1N-h0SR_",
        "colab_type": "code",
        "outputId": "fec5d5c5-a2db-4a5f-f4cc-e8ea4cc1b7af",
        "colab": {
          "base_uri": "https://localhost:8080/",
          "height": 36
        }
      },
      "source": [
        "print(most_k_similar('small',word_dict,10))"
      ],
      "execution_count": 0,
      "outputs": [
        {
          "output_type": "stream",
          "text": [
            "('few', 'one', 'typically', 'mostly', 'usually', 'smaller', 'well', 'larger', 'tiny', 'large')\n"
          ],
          "name": "stdout"
        }
      ]
    },
    {
      "cell_type": "code",
      "metadata": {
        "id": "pJLFNGleK2dD",
        "colab_type": "code",
        "outputId": "6b3d0941-8072-4d69-c858-666412b2f772",
        "colab": {
          "base_uri": "https://localhost:8080/",
          "height": 36
        }
      },
      "source": [
        "print(most_k_similar('god',word_dict,10))"
      ],
      "execution_count": 0,
      "outputs": [
        {
          "output_type": "stream",
          "text": [
            "('gods', 'true', 'jesus', 'sacred', 'christ', 'faith', 'allah', 'heaven', 'holy', 'divine')\n"
          ],
          "name": "stdout"
        }
      ]
    },
    {
      "cell_type": "markdown",
      "metadata": {
        "id": "IuWfg7KkLCSc",
        "colab_type": "text"
      },
      "source": [
        "### Examples of Analogies\n",
        "a to b as c is to X"
      ]
    },
    {
      "cell_type": "code",
      "metadata": {
        "id": "_kd5Ab1a0SSF",
        "colab_type": "code",
        "outputId": "e710c6e1-93e0-49ef-f7df-c0e63651094b",
        "colab": {
          "base_uri": "https://localhost:8080/",
          "height": 36
        }
      },
      "source": [
        "complete_analogy('man', 'woman', 'actor', word_dict)"
      ],
      "execution_count": 0,
      "outputs": [
        {
          "output_type": "execute_result",
          "data": {
            "text/plain": [
              "'actress'"
            ]
          },
          "metadata": {
            "tags": []
          },
          "execution_count": 17
        }
      ]
    },
    {
      "cell_type": "code",
      "metadata": {
        "id": "juZRsOgB0SSM",
        "colab_type": "code",
        "outputId": "732112db-ff74-456e-8a9a-53f8ee88cee8",
        "colab": {
          "base_uri": "https://localhost:8080/",
          "height": 36
        }
      },
      "source": [
        "complete_analogy('man', 'king', 'woman', word_dict)"
      ],
      "execution_count": 0,
      "outputs": [
        {
          "output_type": "execute_result",
          "data": {
            "text/plain": [
              "'queen'"
            ]
          },
          "metadata": {
            "tags": []
          },
          "execution_count": 18
        }
      ]
    },
    {
      "cell_type": "code",
      "metadata": {
        "id": "tjYqaqv70SSW",
        "colab_type": "code",
        "outputId": "22bc3a7e-ae85-44d1-a11b-5e0f7ecd4b1c",
        "colab": {
          "base_uri": "https://localhost:8080/",
          "height": 36
        }
      },
      "source": [
        "complete_analogy('japan', 'japanese', 'australia',word_dict)"
      ],
      "execution_count": 0,
      "outputs": [
        {
          "output_type": "execute_result",
          "data": {
            "text/plain": [
              "'british'"
            ]
          },
          "metadata": {
            "tags": []
          },
          "execution_count": 19
        }
      ]
    },
    {
      "cell_type": "code",
      "metadata": {
        "id": "5UaV13fw0SSr",
        "colab_type": "code",
        "outputId": "6a185cc3-c0d6-46bf-f4f7-9de9743191ef",
        "colab": {
          "base_uri": "https://localhost:8080/",
          "height": 36
        }
      },
      "source": [
        "complete_analogy('usa', 'obama', 'israel',word_dict)"
      ],
      "execution_count": 0,
      "outputs": [
        {
          "output_type": "execute_result",
          "data": {
            "text/plain": [
              "'netanyahu'"
            ]
          },
          "metadata": {
            "tags": []
          },
          "execution_count": 27
        }
      ]
    },
    {
      "cell_type": "code",
      "metadata": {
        "id": "72VupA3E0SSv",
        "colab_type": "code",
        "outputId": "d645ec16-0714-4ad0-8c6f-fbfc266e64d4",
        "colab": {}
      },
      "source": [
        "complete_analogy('tall', 'tallest', 'long',word_dict)"
      ],
      "execution_count": 0,
      "outputs": [
        {
          "output_type": "execute_result",
          "data": {
            "text/plain": [
              "'longest'"
            ]
          },
          "metadata": {
            "tags": []
          },
          "execution_count": 92
        }
      ]
    },
    {
      "cell_type": "code",
      "metadata": {
        "id": "pNp34uYD0SS2",
        "colab_type": "code",
        "outputId": "ef39c758-cb8d-4a12-a829-502b9b8af245",
        "colab": {}
      },
      "source": [
        "complete_analogy('good', 'fantastic', 'bad',word_dict)"
      ],
      "execution_count": 0,
      "outputs": [
        {
          "output_type": "execute_result",
          "data": {
            "text/plain": [
              "'incredible'"
            ]
          },
          "metadata": {
            "tags": []
          },
          "execution_count": 93
        }
      ]
    },
    {
      "cell_type": "code",
      "metadata": {
        "id": "Va_Q37wh0SS7",
        "colab_type": "code",
        "outputId": "8776ac9f-a777-4268-d53c-745d63d4391a",
        "colab": {}
      },
      "source": [
        "complete_analogy('germany', 'berlin', 'israel',word_dict)"
      ],
      "execution_count": 0,
      "outputs": [
        {
          "output_type": "execute_result",
          "data": {
            "text/plain": [
              "'jerusalem'"
            ]
          },
          "metadata": {
            "tags": []
          },
          "execution_count": 98
        }
      ]
    },
    {
      "cell_type": "code",
      "metadata": {
        "id": "R3YDiZSG0SS_",
        "colab_type": "code",
        "outputId": "7541d744-e6e8-4087-f85e-70c7f52c8346",
        "colab": {}
      },
      "source": [
        "complete_analogy('germany', 'europe', 'israel',word_dict)"
      ],
      "execution_count": 0,
      "outputs": [
        {
          "output_type": "execute_result",
          "data": {
            "text/plain": [
              "'asia'"
            ]
          },
          "metadata": {
            "tags": []
          },
          "execution_count": 99
        }
      ]
    },
    {
      "cell_type": "code",
      "metadata": {
        "id": "L0V1mmz50STG",
        "colab_type": "code",
        "outputId": "d86cebdc-0218-4a89-9821-c185413b52b6",
        "colab": {}
      },
      "source": [
        "complete_analogy('good', 'bad', 'up',word_dict)"
      ],
      "execution_count": 0,
      "outputs": [
        {
          "output_type": "execute_result",
          "data": {
            "text/plain": [
              "'subprime'"
            ]
          },
          "metadata": {
            "tags": []
          },
          "execution_count": 285
        }
      ]
    },
    {
      "cell_type": "markdown",
      "metadata": {
        "id": "v1AalZ2ALMl4",
        "colab_type": "text"
      },
      "source": [
        "# Time for some visualizations\n",
        "run the next cell"
      ]
    },
    {
      "cell_type": "markdown",
      "metadata": {
        "id": "QjqaKwTpLZBs",
        "colab_type": "text"
      },
      "source": [
        "# display_pca_scatterplot_iplot\n",
        "Takes a list of words and their vector representations\n",
        "Since we can't plot 50 dimention vectors, we must extract the most important feuters. We are doing it here using PCA, but this can be done in other methods such as t-SNE.\n",
        "\n",
        "The plots are intercative, and you can zoom in and out or rotate the axes.\n",
        "\n",
        "Inputs:\n",
        "\n",
        "\n",
        "*   word_dict = word_widt, ditionary with all word and word vector pairs\n",
        "*   words = None, a list of words to plot, if is None, randomly pick sample  sized words from word_dict\n",
        "*   sample = 0, number of words to display if words is none, is sample is 0, display all 400k words, this will take some time\n",
        "\n",
        "\n",
        "\n",
        "\n"
      ]
    },
    {
      "cell_type": "code",
      "metadata": {
        "id": "lngnC1H60STk",
        "colab_type": "code",
        "colab": {}
      },
      "source": [
        "def display_pca_scatterplot_iplot(word_dict=word_dict, words=None, sample=0):\n",
        "    if words == None:\n",
        "        if sample > 0:\n",
        "            words = np.random.choice(list(word_dict.keys()), sample)\n",
        "        else:\n",
        "            words = word_dict.keys()\n",
        "        \n",
        "    word_vectors = np.array([word_dict[w] for w in words])\n",
        "\n",
        "    twodim = PCA().fit_transform(word_vectors)[:,:4]\n",
        "\n",
        "    fig = px.scatter_3d  (x=twodim[:,0], y=twodim[:,1],z=twodim[:,2],color=twodim[:,3], text=words,size_max=60)\n",
        "    #fig = px.scatter(x=twodim[:,0], y=twodim[:,1],color=twodim[:,2], text=words, log_x=False, size_max=60)\n",
        "\n",
        "    fig.update_traces({'textposition':'top center','marker':{'showscale':False}})\n",
        "\n",
        "    fig.update_layout(\n",
        "        title_text='PCA',\n",
        "        paper_bgcolor = 'rgba(0,0,0,0)',\n",
        "\t\t\t\tplot_bgcolor = 'rgba(0,0,0,0)',\n",
        "        scene = dict(xaxis=  dict(nticks=40, range=[-10,10],),\n",
        "                     yaxis = dict(nticks=40, range=[-10,10],),\n",
        "                     zaxis = dict(nticks=40, range=[-10,10])))\n",
        "\n",
        "    fig.show()"
      ],
      "execution_count": 0,
      "outputs": []
    },
    {
      "cell_type": "markdown",
      "metadata": {
        "id": "xa3hNIVLwun0",
        "colab_type": "text"
      },
      "source": [
        "### Royalty and gender\n",
        "![Relatation between royalty and gender](https://i.imgur.com/jEmLYj7.png)"
      ]
    },
    {
      "cell_type": "code",
      "metadata": {
        "id": "PxDjvcLrEwk6",
        "colab_type": "code",
        "colab": {}
      },
      "source": [
        "display_pca_scatterplot_iplot(word_dict, \n",
        "                        ['man','woman','king','queen','prince','princess','duke','duchess'])"
      ],
      "execution_count": 0,
      "outputs": []
    },
    {
      "cell_type": "markdown",
      "metadata": {
        "id": "QFxC9eJu0zjJ",
        "colab_type": "text"
      },
      "source": [
        "### Countries and capitals\n",
        "\n",
        "\n",
        "![Countries](https://i.imgur.com/eoyNqLX.png)"
      ]
    },
    {
      "cell_type": "code",
      "metadata": {
        "id": "eLCPodOPFFAD",
        "colab_type": "code",
        "colab": {}
      },
      "source": [
        "display_pca_scatterplot_iplot(word_dict, \n",
        "                        ['germany','german','italy','italian','england','english','russia','russian'])"
      ],
      "execution_count": 0,
      "outputs": []
    },
    {
      "cell_type": "markdown",
      "metadata": {
        "id": "53HDd0iS1gJA",
        "colab_type": "text"
      },
      "source": [
        "### Contries and capitals\n",
        "\n",
        "![alt text](https://i.imgur.com/rTuvT8k.png)"
      ]
    },
    {
      "cell_type": "code",
      "metadata": {
        "id": "UXYp-oZgG51W",
        "colab_type": "code",
        "colab": {}
      },
      "source": [
        "display_pca_scatterplot_iplot(word_dict, \n",
        "                        ['israel','jerusalem','italy','rome','france','paris','ireland','dublin'])"
      ],
      "execution_count": 0,
      "outputs": []
    },
    {
      "cell_type": "markdown",
      "metadata": {
        "id": "PSuXSXuh300J",
        "colab_type": "text"
      },
      "source": [
        "Familiy relations\n",
        "\n",
        "![alt text](https://i.imgur.com/daXBOZZ.png)"
      ]
    },
    {
      "cell_type": "code",
      "metadata": {
        "id": "XdJzszQV0ST4",
        "colab_type": "code",
        "colab": {}
      },
      "source": [
        "display_pca_scatterplot_iplot(word_dict, \n",
        "                        ['son','father','daughter','mother','uncle','aunt','niece','nephew'])"
      ],
      "execution_count": 0,
      "outputs": []
    },
    {
      "cell_type": "markdown",
      "metadata": {
        "id": "IpmALlhh4DUE",
        "colab_type": "text"
      },
      "source": [
        "### Formal and informal\n",
        "\n",
        "![alt text](https://i.imgur.com/SyaMpH2.png)"
      ]
    },
    {
      "cell_type": "code",
      "metadata": {
        "id": "8i0b-ebi4Dsm",
        "colab_type": "code",
        "colab": {}
      },
      "source": [
        "display_pca_scatterplot_iplot(word_dict, \n",
        "                        ['son','father','daughter','mother','dad','mom','grandpa','grandma','grandfather','grandmother'])"
      ],
      "execution_count": 0,
      "outputs": []
    },
    {
      "cell_type": "code",
      "metadata": {
        "id": "7M6BzzOG0STo",
        "colab_type": "code",
        "outputId": "f2e1cc27-9d60-46c1-a469-b8ad7373bb1b",
        "colab": {
          "base_uri": "https://localhost:8080/",
          "height": 542
        }
      },
      "source": [
        "display_pca_scatterplot_iplot(word_dict, \n",
        "                        ['coffee', 'tea', 'beer', 'wine', 'brandy', 'rum', 'champagne', 'water',\n",
        "                         'spaghetti', 'borscht', 'hamburger', 'pizza', 'falafel', 'sushi', 'meatballs',\n",
        "                         'dog', 'horse', 'cat', 'monkey', 'parrot', 'koala', 'lizard',\n",
        "                         'frog', 'toad', 'monkey', 'ape', 'kangaroo', 'wombat', 'wolf',\n",
        "                         'france', 'germany', 'hungary', 'luxembourg', 'australia', 'fiji', 'china',\n",
        "                         'homework', 'assignment', 'problem', 'exam', 'test', 'class',\n",
        "                         'school', 'college', 'university', 'institute','soda','fanta','cars'])"
      ],
      "execution_count": 0,
      "outputs": [
        {
          "output_type": "display_data",
          "data": {
            "text/html": [
              "<html>\n",
              "<head><meta charset=\"utf-8\" /></head>\n",
              "<body>\n",
              "    <div>\n",
              "            <script src=\"https://cdnjs.cloudflare.com/ajax/libs/mathjax/2.7.5/MathJax.js?config=TeX-AMS-MML_SVG\"></script><script type=\"text/javascript\">if (window.MathJax) {MathJax.Hub.Config({SVG: {font: \"STIX-Web\"}});}</script>\n",
              "                <script type=\"text/javascript\">window.PlotlyConfig = {MathJaxConfig: 'local'};</script>\n",
              "        <script src=\"https://cdn.plot.ly/plotly-latest.min.js\"></script>    \n",
              "            <div id=\"9a0350ef-d32c-40d7-a7aa-e25896c8736b\" class=\"plotly-graph-div\" style=\"height:525px; width:100%;\"></div>\n",
              "            <script type=\"text/javascript\">\n",
              "                \n",
              "                    window.PLOTLYENV=window.PLOTLYENV || {};\n",
              "                    \n",
              "                if (document.getElementById(\"9a0350ef-d32c-40d7-a7aa-e25896c8736b\")) {\n",
              "                    Plotly.newPlot(\n",
              "                        '9a0350ef-d32c-40d7-a7aa-e25896c8736b',\n",
              "                        [{\"hoverlabel\": {\"namelength\": 0}, \"hovertemplate\": \"x=%{x}<br>y=%{y}<br>z=%{z}<br>text=%{text}<br>color=%{marker.color}\", \"legendgroup\": \"\", \"marker\": {\"color\": [1.6525349419624586, 1.9184040849137962, 1.3681497942480831, 1.3995315497239915, 0.2895951697436449, 0.9028461912876613, 0.844198338591523, 2.655633211838767, -1.9779178207999502, -1.6194290812374974, -2.0196169552631535, -1.030723614283158, -1.7034035525098006, -1.3085940887250935, -2.1955675181516034, 0.8397567338415483, 1.1258660929871744, 0.6247817951203909, 0.5920568974447199, 0.3211535532410057, -0.21861844170659525, 0.6894703756346305, 1.0543423137476617, 1.1225122762778408, 0.59205689744472, 0.03757827389589449, -0.02780780169882581, -1.624407695907604, 0.22579825981756874, 0.2356644404499116, -1.1492582238306717, -1.0776539381520707, -1.1107574952730785, 1.0892050742348098, 0.1763674874771551, 1.0470169973695622, -2.567101963422515, -2.17887825982145, 0.18892682845138253, -1.6195408006714385, 0.5312764846110005, -0.2654779497825668, -0.1162067354999786, -0.25474493463917997, -0.09787486555755018, 0.39699478635830854, 1.1670435562097432, -0.22186156287700112, 1.296680892885827], \"coloraxis\": \"coloraxis\", \"showscale\": false, \"symbol\": \"circle\"}, \"mode\": \"markers+text\", \"name\": \"\", \"scene\": \"scene\", \"showlegend\": false, \"text\": [\"coffee\", \"tea\", \"beer\", \"wine\", \"brandy\", \"rum\", \"champagne\", \"water\", \"spaghetti\", \"borscht\", \"hamburger\", \"pizza\", \"falafel\", \"sushi\", \"meatballs\", \"dog\", \"horse\", \"cat\", \"monkey\", \"parrot\", \"koala\", \"lizard\", \"frog\", \"toad\", \"monkey\", \"ape\", \"kangaroo\", \"wombat\", \"wolf\", \"france\", \"germany\", \"hungary\", \"luxembourg\", \"australia\", \"fiji\", \"china\", \"homework\", \"assignment\", \"problem\", \"exam\", \"test\", \"class\", \"school\", \"college\", \"university\", \"institute\", \"soda\", \"fanta\", \"cars\"], \"textposition\": \"top center\", \"type\": \"scatter3d\", \"x\": [-0.8672450378800065, -0.8230871316825322, -1.250130558026714, -0.5285299873079602, -1.820420700554077, -2.7542083820031227, -1.4645672615516694, 0.7800224982524048, -2.379429691640676, -2.513869540750377, -0.7628263080725578, -1.8781256846625607, -2.2782628752709586, -1.8798130944692468, -2.0225142750571607, -0.755067395167665, 0.031740198144429264, -0.9106684914373472, -1.4501778676867971, -1.693958082027459, -1.4551722834764504, -1.6327249327536977, -1.7382453300264809, -2.2815073465301294, -1.4501778676867971, -1.3177484220700446, -1.1755968650639792, -1.589266115320541, -0.00527072129029154, 2.847291476695409, 3.656163976759444, 2.17035726975828, 1.630951532500396, 2.600699181201624, 0.7832859568306758, 2.964171634173539, 0.626645061368543, 1.4255308674987495, 2.1115391751351336, 2.394594175808857, 2.5102348400625805, 2.017465812238185, 3.444514903200274, 3.6839552991587157, 4.612279324521599, 3.8745638518762533, -1.714271268182172, -2.783449048993894, 1.0103255314582829], \"y\": [2.175845896466444, 1.4439891089790728, 2.629065616943313, 2.4129745248386074, 1.654512838651102, 1.547249560676845, 2.536586852738597, 0.8120004872776889, 1.0557960753516509, -0.21077190991702924, 1.6948172032866273, 1.8609073194132704, 0.9631788521918506, 1.0608468427082332, 1.1883953430122935, -1.5575445417287894, -0.9044452654822734, -1.7998644813389086, -2.4218885384907956, -1.8648687356673148, -1.6498144464490203, -2.439450314865011, -2.655199370007867, -2.328147933901545, -2.4218885384907956, -2.5624890323533385, -1.7855060164340284, -2.161981676846383, -1.4466164978616676, 2.8241946391248183, 2.150464942250933, 1.588061931281961, 2.4722888761425312, 0.1569444734840679, -0.259205196340395, 0.6143592170083282, -0.3614837905751789, -0.6154112663170662, -0.21132550484482213, -1.6803095136412411, -0.8642327872057244, -0.261315786118418, -1.2421846362211442, -1.610344895093673, -1.1813366716222389, -1.0789504336649398, 1.9274396654781538, 0.9686303739547215, 1.8380271402184891], \"z\": [-1.4037920824777894, -0.7469635353148968, -1.0296323684048483, -1.4633525327642785, -0.5405745160895673, -0.47355530585602473, -1.2025829450842003, -0.7084990002503103, -0.2761384181524477, -0.43143539697947364, 0.3131327666894269, -1.1340108175288306, -0.07764829642589718, -0.9333934968442207, 0.6235490744923216, -0.6056595188741518, -0.3437854989971153, 0.181756156019927, 0.11615572867725907, 1.535271342910681, 1.3783523942587268, 1.4426612017271445, 1.1211511639963319, 0.668024444976276, 0.11615572867725907, 0.8271124740580994, 0.9839724028802146, 0.5670749833853108, 0.6571001037087782, 2.343425472578418, 2.3794323237245676, 3.1246297416718707, 2.846590718186525, 2.5128051517387813, 2.5106486547968876, 1.9030542597250382, -2.7628544161603736, -0.9360093074001321, -0.17299822994288402, -2.0173204020144366, -0.027516180611622677, -0.8126929601813689, -2.6117525979805514, -2.8653836187685777, -1.8903782625947219, -0.6618882695301416, -1.755723802097401, 0.24354889859165343, -0.5100634101452375]}],\n",
              "                        {\"coloraxis\": {\"colorbar\": {\"title\": {\"text\": \"color\"}}, \"colorscale\": [[0.0, \"#0d0887\"], [0.1111111111111111, \"#46039f\"], [0.2222222222222222, \"#7201a8\"], [0.3333333333333333, \"#9c179e\"], [0.4444444444444444, \"#bd3786\"], [0.5555555555555556, \"#d8576b\"], [0.6666666666666666, \"#ed7953\"], [0.7777777777777778, \"#fb9f3a\"], [0.8888888888888888, \"#fdca26\"], [1.0, \"#f0f921\"]]}, \"legend\": {\"tracegroupgap\": 0}, \"margin\": {\"t\": 60}, \"paper_bgcolor\": \"rgba(0,0,0,0)\", \"plot_bgcolor\": \"rgba(0,0,0,0)\", \"scene\": {\"domain\": {\"x\": [0.0, 1.0], \"y\": [0.0, 1.0]}, \"xaxis\": {\"nticks\": 4, \"range\": [-10, 10], \"title\": {\"text\": \"x\"}}, \"yaxis\": {\"nticks\": 4, \"range\": [-10, 10], \"title\": {\"text\": \"y\"}}, \"zaxis\": {\"nticks\": 4, \"range\": [-10, 10], \"title\": {\"text\": \"z\"}}}, \"template\": {\"data\": {\"bar\": [{\"error_x\": {\"color\": \"#2a3f5f\"}, \"error_y\": {\"color\": \"#2a3f5f\"}, \"marker\": {\"line\": {\"color\": \"#E5ECF6\", \"width\": 0.5}}, \"type\": \"bar\"}], \"barpolar\": [{\"marker\": {\"line\": {\"color\": \"#E5ECF6\", \"width\": 0.5}}, \"type\": \"barpolar\"}], \"carpet\": [{\"aaxis\": {\"endlinecolor\": \"#2a3f5f\", \"gridcolor\": \"white\", \"linecolor\": \"white\", \"minorgridcolor\": \"white\", \"startlinecolor\": \"#2a3f5f\"}, \"baxis\": {\"endlinecolor\": \"#2a3f5f\", \"gridcolor\": \"white\", \"linecolor\": \"white\", \"minorgridcolor\": \"white\", \"startlinecolor\": \"#2a3f5f\"}, \"type\": \"carpet\"}], \"choropleth\": [{\"colorbar\": {\"outlinewidth\": 0, \"ticks\": \"\"}, \"type\": \"choropleth\"}], \"contour\": [{\"colorbar\": {\"outlinewidth\": 0, \"ticks\": \"\"}, \"colorscale\": [[0.0, \"#0d0887\"], [0.1111111111111111, \"#46039f\"], [0.2222222222222222, \"#7201a8\"], [0.3333333333333333, \"#9c179e\"], [0.4444444444444444, \"#bd3786\"], [0.5555555555555556, \"#d8576b\"], [0.6666666666666666, \"#ed7953\"], [0.7777777777777778, \"#fb9f3a\"], [0.8888888888888888, \"#fdca26\"], [1.0, \"#f0f921\"]], \"type\": \"contour\"}], \"contourcarpet\": [{\"colorbar\": {\"outlinewidth\": 0, \"ticks\": \"\"}, \"type\": \"contourcarpet\"}], \"heatmap\": [{\"colorbar\": {\"outlinewidth\": 0, \"ticks\": \"\"}, \"colorscale\": [[0.0, \"#0d0887\"], [0.1111111111111111, \"#46039f\"], [0.2222222222222222, \"#7201a8\"], [0.3333333333333333, \"#9c179e\"], [0.4444444444444444, \"#bd3786\"], [0.5555555555555556, \"#d8576b\"], [0.6666666666666666, \"#ed7953\"], [0.7777777777777778, \"#fb9f3a\"], [0.8888888888888888, \"#fdca26\"], [1.0, \"#f0f921\"]], \"type\": \"heatmap\"}], \"heatmapgl\": [{\"colorbar\": {\"outlinewidth\": 0, \"ticks\": \"\"}, \"colorscale\": [[0.0, \"#0d0887\"], [0.1111111111111111, \"#46039f\"], [0.2222222222222222, \"#7201a8\"], [0.3333333333333333, \"#9c179e\"], [0.4444444444444444, \"#bd3786\"], [0.5555555555555556, \"#d8576b\"], [0.6666666666666666, \"#ed7953\"], [0.7777777777777778, \"#fb9f3a\"], [0.8888888888888888, \"#fdca26\"], [1.0, \"#f0f921\"]], \"type\": \"heatmapgl\"}], \"histogram\": [{\"marker\": {\"colorbar\": {\"outlinewidth\": 0, \"ticks\": \"\"}}, \"type\": \"histogram\"}], \"histogram2d\": [{\"colorbar\": {\"outlinewidth\": 0, \"ticks\": \"\"}, \"colorscale\": [[0.0, \"#0d0887\"], [0.1111111111111111, \"#46039f\"], [0.2222222222222222, \"#7201a8\"], [0.3333333333333333, \"#9c179e\"], [0.4444444444444444, \"#bd3786\"], [0.5555555555555556, \"#d8576b\"], [0.6666666666666666, \"#ed7953\"], [0.7777777777777778, \"#fb9f3a\"], [0.8888888888888888, \"#fdca26\"], [1.0, \"#f0f921\"]], \"type\": \"histogram2d\"}], \"histogram2dcontour\": [{\"colorbar\": {\"outlinewidth\": 0, \"ticks\": \"\"}, \"colorscale\": [[0.0, \"#0d0887\"], [0.1111111111111111, \"#46039f\"], [0.2222222222222222, \"#7201a8\"], [0.3333333333333333, \"#9c179e\"], [0.4444444444444444, \"#bd3786\"], [0.5555555555555556, \"#d8576b\"], [0.6666666666666666, \"#ed7953\"], [0.7777777777777778, \"#fb9f3a\"], [0.8888888888888888, \"#fdca26\"], [1.0, \"#f0f921\"]], \"type\": \"histogram2dcontour\"}], \"mesh3d\": [{\"colorbar\": {\"outlinewidth\": 0, \"ticks\": \"\"}, \"type\": \"mesh3d\"}], \"parcoords\": [{\"line\": {\"colorbar\": {\"outlinewidth\": 0, \"ticks\": \"\"}}, \"type\": \"parcoords\"}], \"pie\": [{\"automargin\": true, \"type\": \"pie\"}], \"scatter\": [{\"marker\": {\"colorbar\": {\"outlinewidth\": 0, \"ticks\": \"\"}}, \"type\": \"scatter\"}], \"scatter3d\": [{\"line\": {\"colorbar\": {\"outlinewidth\": 0, \"ticks\": \"\"}}, \"marker\": {\"colorbar\": {\"outlinewidth\": 0, \"ticks\": \"\"}}, \"type\": \"scatter3d\"}], \"scattercarpet\": [{\"marker\": {\"colorbar\": {\"outlinewidth\": 0, \"ticks\": \"\"}}, \"type\": \"scattercarpet\"}], \"scattergeo\": [{\"marker\": {\"colorbar\": {\"outlinewidth\": 0, \"ticks\": \"\"}}, \"type\": \"scattergeo\"}], \"scattergl\": [{\"marker\": {\"colorbar\": {\"outlinewidth\": 0, \"ticks\": \"\"}}, \"type\": \"scattergl\"}], \"scattermapbox\": [{\"marker\": {\"colorbar\": {\"outlinewidth\": 0, \"ticks\": \"\"}}, \"type\": \"scattermapbox\"}], \"scatterpolar\": [{\"marker\": {\"colorbar\": {\"outlinewidth\": 0, \"ticks\": \"\"}}, \"type\": \"scatterpolar\"}], \"scatterpolargl\": [{\"marker\": {\"colorbar\": {\"outlinewidth\": 0, \"ticks\": \"\"}}, \"type\": \"scatterpolargl\"}], \"scatterternary\": [{\"marker\": {\"colorbar\": {\"outlinewidth\": 0, \"ticks\": \"\"}}, \"type\": \"scatterternary\"}], \"surface\": [{\"colorbar\": {\"outlinewidth\": 0, \"ticks\": \"\"}, \"colorscale\": [[0.0, \"#0d0887\"], [0.1111111111111111, \"#46039f\"], [0.2222222222222222, \"#7201a8\"], [0.3333333333333333, \"#9c179e\"], [0.4444444444444444, \"#bd3786\"], [0.5555555555555556, \"#d8576b\"], [0.6666666666666666, \"#ed7953\"], [0.7777777777777778, \"#fb9f3a\"], [0.8888888888888888, \"#fdca26\"], [1.0, \"#f0f921\"]], \"type\": \"surface\"}], \"table\": [{\"cells\": {\"fill\": {\"color\": \"#EBF0F8\"}, \"line\": {\"color\": \"white\"}}, \"header\": {\"fill\": {\"color\": \"#C8D4E3\"}, \"line\": {\"color\": \"white\"}}, \"type\": \"table\"}]}, \"layout\": {\"annotationdefaults\": {\"arrowcolor\": \"#2a3f5f\", \"arrowhead\": 0, \"arrowwidth\": 1}, \"coloraxis\": {\"colorbar\": {\"outlinewidth\": 0, \"ticks\": \"\"}}, \"colorscale\": {\"diverging\": [[0, \"#8e0152\"], [0.1, \"#c51b7d\"], [0.2, \"#de77ae\"], [0.3, \"#f1b6da\"], [0.4, \"#fde0ef\"], [0.5, \"#f7f7f7\"], [0.6, \"#e6f5d0\"], [0.7, \"#b8e186\"], [0.8, \"#7fbc41\"], [0.9, \"#4d9221\"], [1, \"#276419\"]], \"sequential\": [[0.0, \"#0d0887\"], [0.1111111111111111, \"#46039f\"], [0.2222222222222222, \"#7201a8\"], [0.3333333333333333, \"#9c179e\"], [0.4444444444444444, \"#bd3786\"], [0.5555555555555556, \"#d8576b\"], [0.6666666666666666, \"#ed7953\"], [0.7777777777777778, \"#fb9f3a\"], [0.8888888888888888, \"#fdca26\"], [1.0, \"#f0f921\"]], \"sequentialminus\": [[0.0, \"#0d0887\"], [0.1111111111111111, \"#46039f\"], [0.2222222222222222, \"#7201a8\"], [0.3333333333333333, \"#9c179e\"], [0.4444444444444444, \"#bd3786\"], [0.5555555555555556, \"#d8576b\"], [0.6666666666666666, \"#ed7953\"], [0.7777777777777778, \"#fb9f3a\"], [0.8888888888888888, \"#fdca26\"], [1.0, \"#f0f921\"]]}, \"colorway\": [\"#636efa\", \"#EF553B\", \"#00cc96\", \"#ab63fa\", \"#FFA15A\", \"#19d3f3\", \"#FF6692\", \"#B6E880\", \"#FF97FF\", \"#FECB52\"], \"font\": {\"color\": \"#2a3f5f\"}, \"geo\": {\"bgcolor\": \"white\", \"lakecolor\": \"white\", \"landcolor\": \"#E5ECF6\", \"showlakes\": true, \"showland\": true, \"subunitcolor\": \"white\"}, \"hoverlabel\": {\"align\": \"left\"}, \"hovermode\": \"closest\", \"mapbox\": {\"style\": \"light\"}, \"paper_bgcolor\": \"white\", \"plot_bgcolor\": \"#E5ECF6\", \"polar\": {\"angularaxis\": {\"gridcolor\": \"white\", \"linecolor\": \"white\", \"ticks\": \"\"}, \"bgcolor\": \"#E5ECF6\", \"radialaxis\": {\"gridcolor\": \"white\", \"linecolor\": \"white\", \"ticks\": \"\"}}, \"scene\": {\"xaxis\": {\"backgroundcolor\": \"#E5ECF6\", \"gridcolor\": \"white\", \"gridwidth\": 2, \"linecolor\": \"white\", \"showbackground\": true, \"ticks\": \"\", \"zerolinecolor\": \"white\"}, \"yaxis\": {\"backgroundcolor\": \"#E5ECF6\", \"gridcolor\": \"white\", \"gridwidth\": 2, \"linecolor\": \"white\", \"showbackground\": true, \"ticks\": \"\", \"zerolinecolor\": \"white\"}, \"zaxis\": {\"backgroundcolor\": \"#E5ECF6\", \"gridcolor\": \"white\", \"gridwidth\": 2, \"linecolor\": \"white\", \"showbackground\": true, \"ticks\": \"\", \"zerolinecolor\": \"white\"}}, \"shapedefaults\": {\"line\": {\"color\": \"#2a3f5f\"}}, \"ternary\": {\"aaxis\": {\"gridcolor\": \"white\", \"linecolor\": \"white\", \"ticks\": \"\"}, \"baxis\": {\"gridcolor\": \"white\", \"linecolor\": \"white\", \"ticks\": \"\"}, \"bgcolor\": \"#E5ECF6\", \"caxis\": {\"gridcolor\": \"white\", \"linecolor\": \"white\", \"ticks\": \"\"}}, \"title\": {\"x\": 0.05}, \"xaxis\": {\"automargin\": true, \"gridcolor\": \"white\", \"linecolor\": \"white\", \"ticks\": \"\", \"title\": {\"standoff\": 15}, \"zerolinecolor\": \"white\", \"zerolinewidth\": 2}, \"yaxis\": {\"automargin\": true, \"gridcolor\": \"white\", \"linecolor\": \"white\", \"ticks\": \"\", \"title\": {\"standoff\": 15}, \"zerolinecolor\": \"white\", \"zerolinewidth\": 2}}}, \"title\": {\"text\": \"PCA\"}},\n",
              "                        {\"responsive\": true}\n",
              "                    ).then(function(){\n",
              "                            \n",
              "var gd = document.getElementById('9a0350ef-d32c-40d7-a7aa-e25896c8736b');\n",
              "var x = new MutationObserver(function (mutations, observer) {{\n",
              "        var display = window.getComputedStyle(gd).display;\n",
              "        if (!display || display === 'none') {{\n",
              "            console.log([gd, 'removed!']);\n",
              "            Plotly.purge(gd);\n",
              "            observer.disconnect();\n",
              "        }}\n",
              "}});\n",
              "\n",
              "// Listen for the removal of the full notebook cells\n",
              "var notebookContainer = gd.closest('#notebook-container');\n",
              "if (notebookContainer) {{\n",
              "    x.observe(notebookContainer, {childList: true});\n",
              "}}\n",
              "\n",
              "// Listen for the clearing of the current output cell\n",
              "var outputEl = gd.closest('.output');\n",
              "if (outputEl) {{\n",
              "    x.observe(outputEl, {childList: true});\n",
              "}}\n",
              "\n",
              "                        })\n",
              "                };\n",
              "                \n",
              "            </script>\n",
              "        </div>\n",
              "</body>\n",
              "</html>"
            ]
          },
          "metadata": {
            "tags": []
          }
        }
      ]
    },
    {
      "cell_type": "markdown",
      "metadata": {
        "id": "qUjqORqO4-hD",
        "colab_type": "text"
      },
      "source": [
        "Pick a few words and find 10 similar words to each and display them"
      ]
    },
    {
      "cell_type": "code",
      "metadata": {
        "id": "V19tbvd90STr",
        "colab_type": "code",
        "colab": {}
      },
      "source": [
        "word_list=[]\n",
        "\n",
        "word_list.append(most_k_similar('israel' ,word_dict,10))\n",
        "word_list.append(most_k_similar('chair' ,word_dict,10))\n",
        "word_list.append(most_k_similar('spain' ,word_dict,10))\n",
        "word_list.append(most_k_similar('good' ,word_dict,10))\n",
        "\n",
        "\n",
        "words = [i for sub in word_list for i in sub]\n",
        "\n",
        "display_pca_scatterplot_iplot(word_dict, words)"
      ],
      "execution_count": 0,
      "outputs": []
    },
    {
      "cell_type": "markdown",
      "metadata": {
        "id": "hW15eCvg4Y38",
        "colab_type": "text"
      },
      "source": [
        "Randomly pick 300 words and display their vectors"
      ]
    },
    {
      "cell_type": "code",
      "metadata": {
        "id": "qk5RYSvN0ST1",
        "colab_type": "code",
        "colab": {}
      },
      "source": [
        "display_pca_scatterplot_iplot(word_dict, sample=300)"
      ],
      "execution_count": 0,
      "outputs": []
    }
  ]
}
